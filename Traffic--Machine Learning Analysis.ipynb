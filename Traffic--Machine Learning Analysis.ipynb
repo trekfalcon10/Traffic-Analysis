{
 "cells": [
  {
   "cell_type": "markdown",
   "metadata": {},
   "source": [
    "# Machine Learning Analysis Report\n",
    "\n",
    "I began by importing the cleaned dataset called \"traffic_clean\" and viewing its first 5 rows. \n",
    "\n",
    "Note:  Relevant portions from this report are interspersed throughout the code below for context.\n",
    "\n",
    "## Final Preparations of the Dataset\n",
    "\n",
    "I then filtered the dataset to include information pertaining only to drivers, rather than passengers or pedestrians, by setting the variable Person Type ('PER_TYP') equal to 1, Driver of a Motor Vehicle In-Transport. I then dropped a number of variables that, upon further examination, proved to contain duplicative information, such as 'WEATHER1', 'WEATHER2', 'CF1', 'CF2' and 'CF3' (containing causation information included in other variables) in an effort to simplify the model and reduce the chances of overfitting.  I also dropped irrelevant index variables that were used to initially create the dataset from separate datasets during the data wrangling phase, such as 'ST_CASE', 'VEH_NO' and 'PER_NO'. \n",
    "\n",
    "Most of the other variables were categorical in nature, and therefore had to be converted into binary variables in order to be used by the model in Sci-Kit Learn (hereinafter, \"sklearn\").  Some of these I converted by hand where the variable could be easily summarized by two classes (Rural(1) or Urban(0) or Traffic Control Device functioning or not (VTCONT_F = 1 or 0), for example. Other variables contained details that I surmised could have been useful to the model, such as WEATHER and road surface conditions ('VSURCOND'), so I created a dictionary of keys and values based on the numerical codes and corresponding definitions for these variables found in NHTSA's Fatality Analysis Reporting System Analytical User’s Manual, August 2016.  I then looped through this dictionary, converting the numerical codes into strings of the definitions provided. The variables were then in the proper state to be converted into binary variables later.  \n",
    "\n",
    "Three of the variables were purely numerical variables, Travel Speed ('TRAV_SP'), the driver's age ('AGE') and the number of drunk drivers involved in the accident ('DRUNK_DR'). Since nearly all of the other variables in the model were going to be binary categorical variables, I determined that the three numeric variables needed to be standardized in order to place them on roughly the same footing as the binaries so as not to unduly skew the data.  Accordingly, I divided each variable by twice their standard deviations.  *See also*, [here](http://andrewgelman.com/2009/07/11/when_to_standar/), providing additional justification for the aforementioned procedure.   \n",
    "\n",
    "I then converted the variables with descriptions obtained from the NHTSA manual to binaries using pandas' get_dummies function, resulting in the creation of several new binary columns.  The original, non-binary columns were then dropped. At this point, the dataframe contained 77 columns and was ready for the application of machine learning algorithms.  \n",
    "\n",
    "## Model Selection\n",
    "\n",
    "After preparing the dataset, called \"traffic_clean_ml\", I first split the dataset into an input dataframe and a target series, dropping the target variable 'SERIOUS_FATALS' from the prepared dataset to create an input dataframe X and created a second single column Series y consisting only of the target variable.  \n",
    "\n",
    "I next used sklearn's train_test_split function to split both X and y into train and test variables X_train, X_test, y_train and y_test such that 80% of the total dataset would be used for training the model, while 20% was withheld as unseen data for application of the model after training.  \n",
    "\n",
    "However, the ratio of 0's to 1's in the target variable is more than 10:1.  Prediction would be very difficult for most models under these circumstances.  Therefore I utilized oversampling in order to balance out the dataset, specifically, the RandomOverSampler function from the imblearn package.  The results are shown below, first showing the original imbalanced count of the target variable's classes followed by the counts of the rebalanced data after oversampling.  \n",
    "\n",
    "Given the categorical nature of the input and target variables, classification models appeared to be most appropriate here.  I assessed several classification models to determine which provided the strongest predictions:  logistic regression, an ensemble voting classifier and a k-nearest neighbors classifier.  \n",
    "\n",
    "### Logistic Regression\n",
    "\n",
    "To better prepare the dataset for logistic regression, I used a feature selection algorithm, recursive feature elimination (RFE) from sklearn, in order to narrow the data down to the most useful features.  RFE selected 18 features out of the total 76 which are shown below along with their rankings, with 1 being the strongest. The input dataframe X was then filtered for these features and the train_test_split and oversampling functions were then reapplied as before.  \n",
    "\n",
    "I next performed a grid search over the C hyperparameter using GridsearchCV using a fairly wide grid from -5 to 10 in logspace. After some time, the grid search settled on a C-value of 15264.18. However, the accuracy score of this logistic regression model on the training set was a somewhat disappointing 59.96 percent. \n",
    "\n",
    "I then ran the logistic regression model over the test set and obtained an accuracy score of 59.20%, very close to the accuracy score on the training set.  Thus, although the score was not impressive, there did not appear to be any overfitting here.  The Precision for the positive class (1) was .58, while the Recall (or Sensitivity) was .67.  Therefore, in 58% of cases the model correctly identified a serious fatality out of each time it predicted a serious fatality (where Precision is defined as the True Positives divided by the sum of True Positives and False Positives, $\\frac{TP}{(TP + FP)}$, where TP is True Positive and FP is False Positive). In 67% of instances it correctly identified a serious fatality out of all possible serious fatalities in the dataset (where Recall/Sensitivity is defined as True Positives divided by the sum of True Positives and False Negatives, $\\frac{TP}{(TP + FN)}$, where TP is True Positive and FN is False Negative).  The F1 score, the harmonic mean of the Precision and the Recall ($\\frac{2PR}{(P + R)}$, where P is Precision and R is Recall), was .62.  Given that the F1 score runs from 0 to 1.0, with 1.0 indicating the strongest model, this was a better than average score, though a bit mediocre.  The confusion matrix and classification report displaying the foregoing results are printed below.   \n",
    "\n",
    "I then plotted the ROC Curve for the model, which plots the False Positive Rate vs. the True Positive Rate and compares the curve derived to a reference line with a slope of 1, indicating results that could be obtained by pure chance(equal numbers of False Positives and True Positives).  The greater the area under the curve (AUC), the more True Positives and the stronger the model. The results for the logistic regression model are shown below, showing an area of just .59 and a curve just slightly above the reference line, thus indicating a model that performs just slighly better than chance.  I therefore resolved to experiment with other classification models in an effort to obtain better results.  \n",
    "\n",
    "### Voting Classifier and Model Comparison\n",
    "\n",
    "I next used an ensemble Voting Classifier model that contained a logistic regression classifer, a Random Forest classifier and a K-Nearest Neighbors classifer.  After training the ensemble on the training set, I obtained an accuracy score of approximately 98.5%.  Running a loop over each component model in addition to the Voting Classifier, I obtained the following accuracy scores for the test data to the nearest tenth of a percent:  Logistic Regression at 58.9% (not using feature reduction or hyperparameter selection here), Random Forest at 61.0%, K-Nearest Neighbors at 75.8% and the Voting Classifier at 70.7%.  \n",
    "\n",
    "I attempted to improve the results from the Random Forest and Voting Classifier and in both cases still got inferior results compared to K-Neighbors.  \n",
    "\n",
    "For Random forest, I increased the number of trees to 300.  The improvement to the accuracy score was about .5 percent.  I ran small loop from 10, the default value, to 30 similar to what I did for knn to get an optimum number of estimators, just to see if there was any improvement as the number of estimators was increased and there was virtually none, as shown in the bottom cell.  \n",
    "\n",
    "I then attempted to use 300 estimators directly in the Voting Classifier.  The accuracy score was 0.6162, only a slight improvement, and appears to be supported by the plot below.  \n",
    "\n",
    "I also attempted to adjust the weights for the Voting Classifier to get an improved score.  I adjusted the weights to [.1, .2, .7], where .1 was for the logistic regression, .2 was for the Random Forest and .7 was for KNeighbors.  The Voting Classifier had an improved score of .7575, just slightly less than the KNeighbors classifier at .7577.  \n",
    "\n",
    "I also looked at the Precision, Recall and F1 scores for both methods.  For the Random Forest (with n_estimators=300), the Precision for the positive class was a very high .98, but the Recall was only a .24.  The F1 score for the positive class was only a .38, so this simply does not appear to be a good model for this dataset.  For the Voting Classifier, the Precision for the positive class was a .85, but only a .63 for the Recall and a .72 for the F1 score.  The F1 score here on the positive class, while decent, is still .01 less than the F1 score for the positive class using KNeighbors.  Random Forest and Voting Classifier appear to be making few Type I errors, but a large number of Type II errors. \n",
    "\n",
    "Since the K-Nearest Neighbors model performed the best, I ultimately chose to use this model for the present dataset.  \n",
    "\n",
    "### K-Nearest Neighbors Classifier\n",
    "\n",
    "In order to obtain the optimal k to use for the K-Nearest Neighbors classifier, I looped over several possible k-values from 1 through 8 and plotted the accuracy scores for both the training set and test set in a single plot.  This plot may be viewed in the bottom cell.  (Please note that it takes a substantial amount of time to run, i.e., approximately 20 minutes, and for this reason has been set off from the other cells in this notebook.)  \n",
    "\n",
    "Although k=3 and k=4 gave the highest accuracy scores, there was still a substantial amount of overfitting here.  K-Neighbors overfits more at k=4 by 21.7 percentage points vs. k=7 with 17.4 percentage points overfitting.  The drop in test accuracy is a little under 2 percent going from k=4 (75.8%) to k=7 at 74.2%, so the small drop in accuracy of 1.6% appears to be  worth the 4.3% drop in overfitting. I also attempted to use a weighting function for the nearest neighbors such that weights would be inversely proportional to distance using the weights='distance' parameter.  However, this also resulted in overfitting, and the improvements it provided were again minimal, as illustrated further in the second to last plot below. Accordingly, I ultimately adopted k=7 as the k-value for this model with the weights equal to 1. \n",
    "\n",
    "At k=7, the training accuracy score for the K-Nearest Neighbors classifier was 91.6%, while the testing accuracy score was, as stated, 74.2%. The Precision for the positive class (1) was .76, while the Recall (or Sensitivity) was .71.  Therefore, in 76% of cases the model correctly identified a serious fatality out of each time it predicted a serious fatality. In 71% of instances it correctly identified a serious fatality out of all possible serious fatalities in the dataset.  Finally, the F1 score for the positive class was .73. All of these scores thus indicated a substantial improvement over the previous logistic regression model. The confusion matrix and classification report displaying the foregoing results are printed below.\n",
    "\n",
    "I then plotted the ROC Curve for the present model. The results for the K-Nearest Neighbors model are shown below, showing an area under the curve (AUC) of .74 and a curve that is substantially above the 45 degree reference line, thus indicating a model that performs much better than chance.  \n",
    "\n",
    "## Analysis and Conclusion\n",
    "\n",
    "Despite the improved scores obtained through the K-Nearest Neighbors model on the test data, there was still overfitting unlike with the logistic regression model where feature reduction algorithms were employed.  \n",
    "\n",
    "The use of PCA and other feature-reducing tools was attempted with the K-Nearest Neighbors model, but ultimately had no beneficial impact since the nature of the data was such that each feature had to be split into many sub-features first that then needed to be binarized before being able to submit the data to a machine learning algorithm. Removing subfeatures using a feature reducer resulted in some subfeatures of a given feature being lost, but not all.  This resulted in substantially reduced accuracy when using feature reducers. Nevertheless, I was able to remove some features by hand at the outset before binarizing the variables where I observed redundancy between features. \n",
    "\n",
    "Despite attempting to use an ensemble Voting Classifier method consisting of Logistic Regression, a Random Forest and K-Nearest Neighbors, it failed to outperform K-Nearest Neighbors, as did the Random Forest by itself. Perhaps the Voting Classifier was not performing better than its components because these methods all have similar strengths and weaknesses (at least with respect to the present dataset), so we don’t have a situation where the strengths of one component make up for the weaknesses in another.  Instead there was just an averaging of results, such that the Voting Classifier would never perform better than its strongest component. The issue is likely related to the dataset itself and the way that the variables had to be subdivided into binaries, thus making it too rigid. K-Neighbors likely worked better here because, as noted by the Sci-Kit Learn User Guide, \"it does not attempt to construct a general internal model, but simply stores instances of the training data\" and \"...is often successful in classification situations where the decision boundary is very irregular\", as is likely the situation here. Based on the foregoing, the K-Nearest Neighbors method appears to be superior with respect to the present dataset. \n",
    "\n",
    "As discussed above, I was ultimately able to reduce the extent of overfitting by selecting a higher k-value at k=7, rather than at k=4, and this appeared to provide the best trade-off between reducing overfitting and maximizing accuracy.  In addition to an improved accuracy score, the model also provided improved Precision, Recall and F1 scores and a much greater area under the curve in the model's ROC plot. Therefore, this model appears to have maximized its predictive power and successfully predicted the occurrence of serious fatalities at a high rate with the given data.  \n"
   ]
  },
  {
   "cell_type": "markdown",
   "metadata": {},
   "source": [
    "### Report Excerpts\n",
    "\n",
    "I began by importing the cleaned dataset called \"traffic_clean\" and viewing its first 5 rows. "
   ]
  },
  {
   "cell_type": "code",
   "execution_count": 1,
   "metadata": {},
   "outputs": [
    {
     "data": {
      "text/html": [
       "<div>\n",
       "<style>\n",
       "    .dataframe thead tr:only-child th {\n",
       "        text-align: right;\n",
       "    }\n",
       "\n",
       "    .dataframe thead th {\n",
       "        text-align: left;\n",
       "    }\n",
       "\n",
       "    .dataframe tbody tr th {\n",
       "        vertical-align: top;\n",
       "    }\n",
       "</style>\n",
       "<table border=\"1\" class=\"dataframe\">\n",
       "  <thead>\n",
       "    <tr style=\"text-align: right;\">\n",
       "      <th></th>\n",
       "      <th>ST_CASE</th>\n",
       "      <th>MONTH</th>\n",
       "      <th>YEAR</th>\n",
       "      <th>DAY_WEEK</th>\n",
       "      <th>HOUR</th>\n",
       "      <th>RUR_URB</th>\n",
       "      <th>ROUTE</th>\n",
       "      <th>RELJCT1</th>\n",
       "      <th>RELJCT2</th>\n",
       "      <th>WRK_ZONE</th>\n",
       "      <th>...</th>\n",
       "      <th>BIN_SPEEDREL</th>\n",
       "      <th>BIN_REST_USE</th>\n",
       "      <th>BIN_DRUGS</th>\n",
       "      <th>BIN_P_SF1</th>\n",
       "      <th>BIN_MDRDSTRD</th>\n",
       "      <th>BIN_DRIMPAIR</th>\n",
       "      <th>BIN_MFACTOR</th>\n",
       "      <th>BIN_MDRMANAV</th>\n",
       "      <th>BIN_MVISOBSC</th>\n",
       "      <th>SERIOUS_FATALS</th>\n",
       "    </tr>\n",
       "  </thead>\n",
       "  <tbody>\n",
       "    <tr>\n",
       "      <th>0</th>\n",
       "      <td>10001</td>\n",
       "      <td>1</td>\n",
       "      <td>2015</td>\n",
       "      <td>5</td>\n",
       "      <td>2</td>\n",
       "      <td>1</td>\n",
       "      <td>3</td>\n",
       "      <td>0</td>\n",
       "      <td>1</td>\n",
       "      <td>0</td>\n",
       "      <td>...</td>\n",
       "      <td>0</td>\n",
       "      <td>0</td>\n",
       "      <td>0</td>\n",
       "      <td>0</td>\n",
       "      <td>0</td>\n",
       "      <td>0</td>\n",
       "      <td>0</td>\n",
       "      <td>0</td>\n",
       "      <td>0</td>\n",
       "      <td>0</td>\n",
       "    </tr>\n",
       "    <tr>\n",
       "      <th>1</th>\n",
       "      <td>10002</td>\n",
       "      <td>1</td>\n",
       "      <td>2015</td>\n",
       "      <td>5</td>\n",
       "      <td>22</td>\n",
       "      <td>1</td>\n",
       "      <td>1</td>\n",
       "      <td>0</td>\n",
       "      <td>1</td>\n",
       "      <td>0</td>\n",
       "      <td>...</td>\n",
       "      <td>1</td>\n",
       "      <td>0</td>\n",
       "      <td>0</td>\n",
       "      <td>0</td>\n",
       "      <td>0</td>\n",
       "      <td>0</td>\n",
       "      <td>0</td>\n",
       "      <td>0</td>\n",
       "      <td>0</td>\n",
       "      <td>0</td>\n",
       "    </tr>\n",
       "    <tr>\n",
       "      <th>2</th>\n",
       "      <td>10003</td>\n",
       "      <td>1</td>\n",
       "      <td>2015</td>\n",
       "      <td>5</td>\n",
       "      <td>1</td>\n",
       "      <td>1</td>\n",
       "      <td>2</td>\n",
       "      <td>0</td>\n",
       "      <td>1</td>\n",
       "      <td>0</td>\n",
       "      <td>...</td>\n",
       "      <td>0</td>\n",
       "      <td>0</td>\n",
       "      <td>0</td>\n",
       "      <td>0</td>\n",
       "      <td>0</td>\n",
       "      <td>1</td>\n",
       "      <td>0</td>\n",
       "      <td>0</td>\n",
       "      <td>0</td>\n",
       "      <td>0</td>\n",
       "    </tr>\n",
       "    <tr>\n",
       "      <th>3</th>\n",
       "      <td>10003</td>\n",
       "      <td>1</td>\n",
       "      <td>2015</td>\n",
       "      <td>5</td>\n",
       "      <td>1</td>\n",
       "      <td>1</td>\n",
       "      <td>2</td>\n",
       "      <td>0</td>\n",
       "      <td>1</td>\n",
       "      <td>0</td>\n",
       "      <td>...</td>\n",
       "      <td>0</td>\n",
       "      <td>0</td>\n",
       "      <td>0</td>\n",
       "      <td>0</td>\n",
       "      <td>0</td>\n",
       "      <td>1</td>\n",
       "      <td>0</td>\n",
       "      <td>0</td>\n",
       "      <td>0</td>\n",
       "      <td>0</td>\n",
       "    </tr>\n",
       "    <tr>\n",
       "      <th>4</th>\n",
       "      <td>10004</td>\n",
       "      <td>1</td>\n",
       "      <td>2015</td>\n",
       "      <td>1</td>\n",
       "      <td>0</td>\n",
       "      <td>1</td>\n",
       "      <td>3</td>\n",
       "      <td>0</td>\n",
       "      <td>1</td>\n",
       "      <td>0</td>\n",
       "      <td>...</td>\n",
       "      <td>0</td>\n",
       "      <td>0</td>\n",
       "      <td>0</td>\n",
       "      <td>0</td>\n",
       "      <td>0</td>\n",
       "      <td>1</td>\n",
       "      <td>0</td>\n",
       "      <td>0</td>\n",
       "      <td>0</td>\n",
       "      <td>0</td>\n",
       "    </tr>\n",
       "  </tbody>\n",
       "</table>\n",
       "<p>5 rows × 55 columns</p>\n",
       "</div>"
      ],
      "text/plain": [
       "   ST_CASE  MONTH  YEAR  DAY_WEEK  HOUR  RUR_URB  ROUTE  RELJCT1  RELJCT2  \\\n",
       "0    10001      1  2015         5     2        1      3        0        1   \n",
       "1    10002      1  2015         5    22        1      1        0        1   \n",
       "2    10003      1  2015         5     1        1      2        0        1   \n",
       "3    10003      1  2015         5     1        1      2        0        1   \n",
       "4    10004      1  2015         1     0        1      3        0        1   \n",
       "\n",
       "   WRK_ZONE       ...        BIN_SPEEDREL  BIN_REST_USE  BIN_DRUGS  BIN_P_SF1  \\\n",
       "0         0       ...                   0             0          0          0   \n",
       "1         0       ...                   1             0          0          0   \n",
       "2         0       ...                   0             0          0          0   \n",
       "3         0       ...                   0             0          0          0   \n",
       "4         0       ...                   0             0          0          0   \n",
       "\n",
       "   BIN_MDRDSTRD  BIN_DRIMPAIR  BIN_MFACTOR  BIN_MDRMANAV  BIN_MVISOBSC  \\\n",
       "0             0             0            0             0             0   \n",
       "1             0             0            0             0             0   \n",
       "2             0             1            0             0             0   \n",
       "3             0             1            0             0             0   \n",
       "4             0             1            0             0             0   \n",
       "\n",
       "   SERIOUS_FATALS  \n",
       "0               0  \n",
       "1               0  \n",
       "2               0  \n",
       "3               0  \n",
       "4               0  \n",
       "\n",
       "[5 rows x 55 columns]"
      ]
     },
     "execution_count": 1,
     "metadata": {},
     "output_type": "execute_result"
    }
   ],
   "source": [
    "import numpy as np\n",
    "import pandas as pd\n",
    "\n",
    "#Read cleaned csv to new dataframe\n",
    "traffic_clean = pd.read_csv(\"traffic_clean.csv\")\n",
    "traffic_clean.head()\n"
   ]
  },
  {
   "cell_type": "code",
   "execution_count": 2,
   "metadata": {},
   "outputs": [
    {
     "name": "stdout",
     "output_type": "stream",
     "text": [
      "Index(['MONTH', 'DAY_WEEK', 'HOUR', 'RUR_URB', 'ROUTE', 'RELJCT2', 'WRK_ZONE',\n",
      "       'LGT_COND', 'WEATHER', 'DRUNK_DR', 'HAZ_INV', 'TRAV_SP', 'SPEEDREL',\n",
      "       'VSPD_LIM', 'VPROFILE', 'VPAVETYP', 'VSURCOND', 'VTRAFCON', 'VTCONT_F',\n",
      "       'AGE', 'REST_USE', 'DRUGS', 'MDRDSTRD', 'DRIMPAIR', 'MFACTOR',\n",
      "       'MDRMANAV', 'MVISOBSC', 'BIN_WRK_ZONE', 'BIN_SPEEDREL', 'BIN_REST_USE',\n",
      "       'BIN_DRUGS', 'BIN_MDRDSTRD', 'BIN_DRIMPAIR', 'BIN_MFACTOR',\n",
      "       'BIN_MDRMANAV', 'BIN_MVISOBSC', 'SERIOUS_FATALS'],\n",
      "      dtype='object')\n"
     ]
    },
    {
     "data": {
      "text/html": [
       "<div>\n",
       "<style>\n",
       "    .dataframe thead tr:only-child th {\n",
       "        text-align: right;\n",
       "    }\n",
       "\n",
       "    .dataframe thead th {\n",
       "        text-align: left;\n",
       "    }\n",
       "\n",
       "    .dataframe tbody tr th {\n",
       "        vertical-align: top;\n",
       "    }\n",
       "</style>\n",
       "<table border=\"1\" class=\"dataframe\">\n",
       "  <thead>\n",
       "    <tr style=\"text-align: right;\">\n",
       "      <th></th>\n",
       "      <th>MONTH</th>\n",
       "      <th>DAY_WEEK</th>\n",
       "      <th>HOUR</th>\n",
       "      <th>RUR_URB</th>\n",
       "      <th>ROUTE</th>\n",
       "      <th>RELJCT2</th>\n",
       "      <th>WRK_ZONE</th>\n",
       "      <th>LGT_COND</th>\n",
       "      <th>WEATHER</th>\n",
       "      <th>DRUNK_DR</th>\n",
       "      <th>...</th>\n",
       "      <th>BIN_WRK_ZONE</th>\n",
       "      <th>BIN_SPEEDREL</th>\n",
       "      <th>BIN_REST_USE</th>\n",
       "      <th>BIN_DRUGS</th>\n",
       "      <th>BIN_MDRDSTRD</th>\n",
       "      <th>BIN_DRIMPAIR</th>\n",
       "      <th>BIN_MFACTOR</th>\n",
       "      <th>BIN_MDRMANAV</th>\n",
       "      <th>BIN_MVISOBSC</th>\n",
       "      <th>SERIOUS_FATALS</th>\n",
       "    </tr>\n",
       "  </thead>\n",
       "  <tbody>\n",
       "    <tr>\n",
       "      <th>0</th>\n",
       "      <td>1</td>\n",
       "      <td>5</td>\n",
       "      <td>2</td>\n",
       "      <td>1</td>\n",
       "      <td>3</td>\n",
       "      <td>1</td>\n",
       "      <td>0</td>\n",
       "      <td>2</td>\n",
       "      <td>1</td>\n",
       "      <td>1</td>\n",
       "      <td>...</td>\n",
       "      <td>0</td>\n",
       "      <td>0</td>\n",
       "      <td>0</td>\n",
       "      <td>0</td>\n",
       "      <td>0</td>\n",
       "      <td>0</td>\n",
       "      <td>0</td>\n",
       "      <td>0</td>\n",
       "      <td>0</td>\n",
       "      <td>0</td>\n",
       "    </tr>\n",
       "    <tr>\n",
       "      <th>1</th>\n",
       "      <td>1</td>\n",
       "      <td>5</td>\n",
       "      <td>22</td>\n",
       "      <td>1</td>\n",
       "      <td>1</td>\n",
       "      <td>1</td>\n",
       "      <td>0</td>\n",
       "      <td>2</td>\n",
       "      <td>10</td>\n",
       "      <td>0</td>\n",
       "      <td>...</td>\n",
       "      <td>0</td>\n",
       "      <td>1</td>\n",
       "      <td>0</td>\n",
       "      <td>0</td>\n",
       "      <td>0</td>\n",
       "      <td>0</td>\n",
       "      <td>0</td>\n",
       "      <td>0</td>\n",
       "      <td>0</td>\n",
       "      <td>0</td>\n",
       "    </tr>\n",
       "    <tr>\n",
       "      <th>2</th>\n",
       "      <td>1</td>\n",
       "      <td>5</td>\n",
       "      <td>1</td>\n",
       "      <td>1</td>\n",
       "      <td>2</td>\n",
       "      <td>1</td>\n",
       "      <td>0</td>\n",
       "      <td>2</td>\n",
       "      <td>1</td>\n",
       "      <td>1</td>\n",
       "      <td>...</td>\n",
       "      <td>0</td>\n",
       "      <td>0</td>\n",
       "      <td>0</td>\n",
       "      <td>0</td>\n",
       "      <td>0</td>\n",
       "      <td>1</td>\n",
       "      <td>0</td>\n",
       "      <td>0</td>\n",
       "      <td>0</td>\n",
       "      <td>0</td>\n",
       "    </tr>\n",
       "    <tr>\n",
       "      <th>4</th>\n",
       "      <td>1</td>\n",
       "      <td>1</td>\n",
       "      <td>0</td>\n",
       "      <td>1</td>\n",
       "      <td>3</td>\n",
       "      <td>1</td>\n",
       "      <td>0</td>\n",
       "      <td>2</td>\n",
       "      <td>10</td>\n",
       "      <td>1</td>\n",
       "      <td>...</td>\n",
       "      <td>0</td>\n",
       "      <td>0</td>\n",
       "      <td>0</td>\n",
       "      <td>0</td>\n",
       "      <td>0</td>\n",
       "      <td>1</td>\n",
       "      <td>0</td>\n",
       "      <td>0</td>\n",
       "      <td>0</td>\n",
       "      <td>0</td>\n",
       "    </tr>\n",
       "    <tr>\n",
       "      <th>5</th>\n",
       "      <td>1</td>\n",
       "      <td>4</td>\n",
       "      <td>7</td>\n",
       "      <td>2</td>\n",
       "      <td>2</td>\n",
       "      <td>2</td>\n",
       "      <td>0</td>\n",
       "      <td>1</td>\n",
       "      <td>1</td>\n",
       "      <td>0</td>\n",
       "      <td>...</td>\n",
       "      <td>0</td>\n",
       "      <td>0</td>\n",
       "      <td>1</td>\n",
       "      <td>0</td>\n",
       "      <td>0</td>\n",
       "      <td>0</td>\n",
       "      <td>0</td>\n",
       "      <td>0</td>\n",
       "      <td>1</td>\n",
       "      <td>0</td>\n",
       "    </tr>\n",
       "  </tbody>\n",
       "</table>\n",
       "<p>5 rows × 37 columns</p>\n",
       "</div>"
      ],
      "text/plain": [
       "   MONTH  DAY_WEEK  HOUR  RUR_URB  ROUTE  RELJCT2  WRK_ZONE  LGT_COND  \\\n",
       "0      1         5     2        1      3        1         0         2   \n",
       "1      1         5    22        1      1        1         0         2   \n",
       "2      1         5     1        1      2        1         0         2   \n",
       "4      1         1     0        1      3        1         0         2   \n",
       "5      1         4     7        2      2        2         0         1   \n",
       "\n",
       "   WEATHER  DRUNK_DR       ...        BIN_WRK_ZONE  BIN_SPEEDREL  \\\n",
       "0        1         1       ...                   0             0   \n",
       "1       10         0       ...                   0             1   \n",
       "2        1         1       ...                   0             0   \n",
       "4       10         1       ...                   0             0   \n",
       "5        1         0       ...                   0             0   \n",
       "\n",
       "   BIN_REST_USE  BIN_DRUGS  BIN_MDRDSTRD  BIN_DRIMPAIR  BIN_MFACTOR  \\\n",
       "0             0          0             0             0            0   \n",
       "1             0          0             0             0            0   \n",
       "2             0          0             0             1            0   \n",
       "4             0          0             0             1            0   \n",
       "5             1          0             0             0            0   \n",
       "\n",
       "   BIN_MDRMANAV  BIN_MVISOBSC  SERIOUS_FATALS  \n",
       "0             0             0               0  \n",
       "1             0             0               0  \n",
       "2             0             0               0  \n",
       "4             0             0               0  \n",
       "5             0             1               0  \n",
       "\n",
       "[5 rows x 37 columns]"
      ]
     },
     "execution_count": 2,
     "metadata": {},
     "output_type": "execute_result"
    }
   ],
   "source": [
    "#Filter dataset to only include drivers\n",
    "traffic_clean_ml = traffic_clean.loc[traffic_clean['PER_TYP'] == 1]\n",
    "\n",
    "#Drop columns with information proving to be duplicative or that are only reference columns\n",
    "#Drop MVIOLATN--it is after the fact and most common charge is homicide--not useful\n",
    "to_drop = ['ST_CASE', 'YEAR', 'RELJCT1','WEATHER1', 'WEATHER2', 'CF1', 'CF2', 'CF3', 'FATALS', 'VEH_NO', \n",
    "           'DEATHS', 'PER_NO', 'PER_TYP', 'INJ_SEV', 'REST_MIS', 'P_SF1', 'BIN_P_SF1', \n",
    "           'MVIOLATN']\n",
    "\n",
    "traffic_clean_ml = traffic_clean_ml.drop(to_drop, axis=1)\n",
    "\n",
    "print(traffic_clean_ml.columns)\n",
    "\n",
    "traffic_clean_ml.head()\n"
   ]
  },
  {
   "cell_type": "markdown",
   "metadata": {},
   "source": [
    "## Final Preparations of the Dataset\n",
    "\n",
    "I then filtered the dataset to include information pertaining only to drivers, rather than passengers or pedestrians, by setting the variable Person Type ('PER_TYP') equal to 1, Driver of a Motor Vehicle In-Transport. I then dropped a number of variables that, upon further examination, proved to contain duplicative information, such as 'WEATHER1', 'WEATHER2', 'CF1', 'CF2' and 'CF3' (containing causation information included in other variables) in an effort to simplify the model and reduce the chances of overfitting.  I also dropped irrelevant index variables that were used to initially create the dataset from separate datasets during the data wrangling phase, such as 'ST_CASE', 'VEH_NO' and 'PER_NO'. \n",
    "\n",
    "Most of the other variables were categorical in nature, and therefore had to be converted into binary variables in order to be used by the model in Sci-Kit Learn (hereinafter, \"sklearn\").  Some of these I converted by hand where the variable could be easily summarized by two classes (Rural(1) or Urban(0) or Traffic Control Device functioning or not (VTCONT_F = 1 or 0), for example. Other variables contained details that I surmised could have been useful to the model, such as WEATHER and road surface conditions ('VSURCOND'), so I created a dictionary of keys and values based on the numerical codes and corresponding definitions for these variables found in NHTSA's Fatality Analysis Reporting System Analytical User’s Manual, August 2016.  I then looped through this dictionary, converting the numerical codes into strings of the definitions provided. The variables were then in the proper state to be converted into binary variables later.  "
   ]
  },
  {
   "cell_type": "code",
   "execution_count": 3,
   "metadata": {},
   "outputs": [
    {
     "data": {
      "text/plain": [
       "1    26097\n",
       "0    25883\n",
       "Name: BIN_RUR_URB, dtype: int64"
      ]
     },
     "execution_count": 3,
     "metadata": {},
     "output_type": "execute_result"
    }
   ],
   "source": [
    "#Convert RUR_URB to binary rural (1) or urban (2)--unknown values split evenly between the two\n",
    "\n",
    "rur_urb = traffic_clean_ml.loc[(traffic_clean_ml['RUR_URB'] > 2), 'RUR_URB']\n",
    "\n",
    "rur_urb1 = traffic_clean_ml.loc[(traffic_clean_ml['RUR_URB'] > 2), 'RUR_URB'][0:int(np.round((len(rur_urb)/2)))].replace([6, 8, 9], 1)\n",
    "rur_urb2 = traffic_clean_ml.loc[(traffic_clean_ml['RUR_URB'] > 2), 'RUR_URB'][int(np.round((len(rur_urb)/2))):] = rur_urb[int(np.round((len(rur_urb)/2))):].replace([6, 8, 9], 2)\n",
    "\n",
    "#Create copy column to be turned into binary\n",
    "traffic_clean_ml['BIN_RUR_URB'] = traffic_clean_ml['RUR_URB']\n",
    "\n",
    "traffic_clean_ml.loc[(traffic_clean_ml['BIN_RUR_URB'] > 2), 'BIN_RUR_URB'] = rur_urb2.append(rur_urb1)\n",
    "\n",
    "\n",
    "#Convert 2 (Urban) to 0 for binary purposes\n",
    "traffic_clean_ml.loc[(traffic_clean_ml['BIN_RUR_URB'] == 2), 'BIN_RUR_URB'] = 0\n",
    "\n",
    "#traffic_clean_lr['RUR_URB'].value_counts()\n",
    "traffic_clean_ml['BIN_RUR_URB'].value_counts()\n",
    "\n"
   ]
  },
  {
   "cell_type": "code",
   "execution_count": 4,
   "metadata": {},
   "outputs": [
    {
     "data": {
      "text/plain": [
       "1     32885\n",
       "2     11009\n",
       "3      3806\n",
       "8      1953\n",
       "18      777\n",
       "5       615\n",
       "19      287\n",
       "20      222\n",
       "4       197\n",
       "6       106\n",
       "7        94\n",
       "17       19\n",
       "16       10\n",
       "Name: RELJCT2, dtype: int64"
      ]
     },
     "execution_count": 4,
     "metadata": {},
     "output_type": "execute_result"
    }
   ],
   "source": [
    "#Convert RELJCT2 to binary\n",
    "\n",
    "#Change 99, Unknown, and 98, Not Reported, to 1, Non-Junction\n",
    "traffic_clean_ml.loc[(traffic_clean_ml['RELJCT2'] == 99) | (traffic_clean_ml['RELJCT2'] == 98), 'RELJCT2'] = 1\n",
    "\n",
    "traffic_clean_ml['RELJCT2'].value_counts()\n",
    "\n"
   ]
  },
  {
   "cell_type": "code",
   "execution_count": 5,
   "metadata": {},
   "outputs": [
    {
     "data": {
      "text/plain": [
       "Non-Junction                              32885\n",
       "Intersection                              11009\n",
       "Intersection Related                       3806\n",
       "Driveway Access Related                    1953\n",
       "Through Roadway                             777\n",
       "Entrance/Exit Ramp Related                  615\n",
       "Other Location Within Interchange Area      287\n",
       "Entrance/Exit Ramp                          222\n",
       "Driveway Access                             197\n",
       "Railway Grade Crossing                      106\n",
       "Crossover Related                            94\n",
       "Acceleration/Deceleration Lane               19\n",
       "Shared-Use Path Crossing                     10\n",
       "Name: RELJCT2, dtype: int64"
      ]
     },
     "execution_count": 5,
     "metadata": {},
     "output_type": "execute_result"
    }
   ],
   "source": [
    "#Create dictionary based on NHTSA manual-given values\n",
    "\n",
    "junc_dict = {\n",
    "    1: 'Non-Junction',\n",
    "    2: 'Intersection',\n",
    "    3: 'Intersection Related',\n",
    "    4: 'Driveway Access',\n",
    "    5: 'Entrance/Exit Ramp Related',\n",
    "    6: 'Railway Grade Crossing',\n",
    "    7: 'Crossover Related',\n",
    "    8: 'Driveway Access Related',\n",
    "    16: 'Shared-Use Path Crossing',\n",
    "    17: 'Acceleration/Deceleration Lane',\n",
    "    18: 'Through Roadway',\n",
    "    19: 'Other Location Within Interchange Area',\n",
    "    20: 'Entrance/Exit Ramp'\n",
    "}\n",
    "\n",
    "#Loop through values in column and reset values matching key to value in dictionary \n",
    "#to get substantive information for variable\n",
    "\n",
    "for i in np.arange(0, len(traffic_clean_ml['RELJCT2'])):\n",
    "    for key, val in junc_dict.items():\n",
    "        if i == key:\n",
    "            traffic_clean_ml['RELJCT2'].replace(i, val, inplace=True)\n",
    "\n",
    "\n",
    "#Check values\n",
    "traffic_clean_ml['RELJCT2'].value_counts()\n"
   ]
  },
  {
   "cell_type": "code",
   "execution_count": 6,
   "metadata": {},
   "outputs": [
    {
     "data": {
      "text/plain": [
       "1    27004\n",
       "2    13302\n",
       "3     8963\n",
       "5     1360\n",
       "4     1034\n",
       "6      317\n",
       "Name: LGT_COND, dtype: int64"
      ]
     },
     "execution_count": 6,
     "metadata": {},
     "output_type": "execute_result"
    }
   ],
   "source": [
    "#Convert LGT_COND to binary--Change to descriptions--use get_dummies later\n",
    "#Remove unknown values--change to 1 Daylight\n",
    "\n",
    "traffic_clean_ml.loc[(traffic_clean_ml['LGT_COND'] == 7) | (traffic_clean_ml['LGT_COND'] == 8) |  (traffic_clean_ml['LGT_COND'] == 9), 'LGT_COND'] = 1\n",
    "\n",
    "traffic_clean_ml['LGT_COND'].value_counts()"
   ]
  },
  {
   "cell_type": "code",
   "execution_count": 7,
   "metadata": {},
   "outputs": [
    {
     "data": {
      "text/plain": [
       "Daylight                   27004\n",
       "Dark – Not Lighted         13302\n",
       "Dark – Lighted              8963\n",
       "Dusk                        1360\n",
       "Dawn                        1034\n",
       "Dark – Unknown Lighting      317\n",
       "Name: LGT_COND, dtype: int64"
      ]
     },
     "execution_count": 7,
     "metadata": {},
     "output_type": "execute_result"
    }
   ],
   "source": [
    "#Create dictionary based on NHTSA manual-given values\n",
    "\n",
    "light_dict = {\n",
    "    1: 'Daylight',\n",
    "    2: 'Dark – Not Lighted',\n",
    "    3: 'Dark – Lighted',\n",
    "    4: 'Dawn',\n",
    "    5: 'Dusk',\n",
    "    6: 'Dark – Unknown Lighting'\n",
    "}\n",
    "\n",
    "\n",
    "#Loop through values in column and reset values matching key to value in dictionary \n",
    "#to get substantive information for variable\n",
    "\n",
    "for i in np.arange(0, len(traffic_clean_ml['LGT_COND'])):\n",
    "    for key, val in light_dict.items():\n",
    "        if i == key:\n",
    "            traffic_clean_ml['LGT_COND'].replace(i, val, inplace=True)\n",
    "\n",
    "\n",
    "#Check values\n",
    "traffic_clean_ml['LGT_COND'].value_counts()\n",
    "\n"
   ]
  },
  {
   "cell_type": "code",
   "execution_count": 8,
   "metadata": {},
   "outputs": [
    {
     "data": {
      "text/plain": [
       "1     37584\n",
       "10     8643\n",
       "2      3956\n",
       "5       674\n",
       "4       627\n",
       "3       171\n",
       "11       98\n",
       "8        83\n",
       "7        73\n",
       "12       40\n",
       "6        31\n",
       "Name: WEATHER, dtype: int64"
      ]
     },
     "execution_count": 8,
     "metadata": {},
     "output_type": "execute_result"
    }
   ],
   "source": [
    "#Convert WEATHER to binary--first get descriptions, then convert using get_dummies later\n",
    "#Remove unknown values--change to 1 Clear\n",
    "\n",
    "traffic_clean_ml.loc[(traffic_clean_ml['WEATHER'] == 98) | (traffic_clean_ml['WEATHER'] == 99), 'WEATHER'] = 1\n",
    "\n",
    "traffic_clean_ml['WEATHER'].value_counts()\n",
    "\n"
   ]
  },
  {
   "cell_type": "code",
   "execution_count": 9,
   "metadata": {},
   "outputs": [
    {
     "data": {
      "text/plain": [
       "Clear                       37584\n",
       "Cloudy                       8643\n",
       "Rain                         3956\n",
       "Fog, Smog, Smoke              674\n",
       "Snow                          627\n",
       "Sleet, Hail                   171\n",
       "Blowing Snow                   98\n",
       "Other (Adverse Weather)        83\n",
       "Blowing Sand, Soil, Dirt       73\n",
       "Freezing Rain or Drizzle       40\n",
       "Severe Crosswinds              31\n",
       "Name: WEATHER, dtype: int64"
      ]
     },
     "execution_count": 9,
     "metadata": {},
     "output_type": "execute_result"
    }
   ],
   "source": [
    "#Create dictionary based on NHTSA manual-given values\n",
    "\n",
    "weather_dict = {\n",
    "    1: 'Clear',\n",
    "    2: 'Rain',\n",
    "    3: 'Sleet, Hail',\n",
    "    4: 'Snow',\n",
    "    5: 'Fog, Smog, Smoke',\n",
    "    6: 'Severe Crosswinds',\n",
    "    7: 'Blowing Sand, Soil, Dirt',\n",
    "    8: 'Other (Adverse Weather)',\n",
    "    10: 'Cloudy',\n",
    "    11: 'Blowing Snow',\n",
    "    12: 'Freezing Rain or Drizzle'\n",
    "}\n",
    "\n",
    "#Loop through values in column and reset values matching key to value in dictionary \n",
    "#to get substantive information for variable\n",
    "\n",
    "for i in np.arange(0, len(traffic_clean_ml['WEATHER'])):\n",
    "    for key, val in weather_dict.items():\n",
    "        if i == key:\n",
    "            traffic_clean_ml['WEATHER'].replace(i, val, inplace=True)\n",
    "\n",
    "\n",
    "#Check values\n",
    "traffic_clean_ml['WEATHER'].value_counts()\n",
    "\n"
   ]
  },
  {
   "cell_type": "code",
   "execution_count": 10,
   "metadata": {},
   "outputs": [
    {
     "data": {
      "text/plain": [
       "0    51844\n",
       "1      136\n",
       "Name: BIN_HAZ_INV, dtype: int64"
      ]
     },
     "execution_count": 10,
     "metadata": {},
     "output_type": "execute_result"
    }
   ],
   "source": [
    "#Convert HAZ_INV to true binary--change 1 to 0 first (1 = \"No\" here), then 2 = 1\n",
    "\n",
    "traffic_clean_ml['BIN_HAZ_INV'] = traffic_clean_ml['HAZ_INV']\n",
    "\n",
    "traffic_clean_ml.loc[(traffic_clean_ml['BIN_HAZ_INV'] == 1), 'BIN_HAZ_INV'] = 0\n",
    "\n",
    "traffic_clean_ml.loc[(traffic_clean_ml['BIN_HAZ_INV'] == 2), 'BIN_HAZ_INV'] = 1\n",
    "\n",
    "traffic_clean_ml['BIN_HAZ_INV'].value_counts()\n"
   ]
  },
  {
   "cell_type": "code",
   "execution_count": 11,
   "metadata": {},
   "outputs": [
    {
     "data": {
      "text/plain": [
       "1     43981\n",
       "2      6132\n",
       "4       641\n",
       "3       589\n",
       "0       311\n",
       "10      124\n",
       "11      105\n",
       "6        89\n",
       "5         5\n",
       "7         3\n",
       "Name: VSURCOND, dtype: int64"
      ]
     },
     "execution_count": 11,
     "metadata": {},
     "output_type": "execute_result"
    }
   ],
   "source": [
    "#Convert VSURCOND to binary--first get descriptions, then convert using get_dummies later\n",
    "#Remove unknown/Other values--change to 1, Dry\n",
    "traffic_clean_ml.loc[(traffic_clean_ml['VSURCOND'] == 98) | (traffic_clean_ml['VSURCOND'] == 99) | (traffic_clean_ml['VSURCOND'] == 8), 'VSURCOND'] = 1\n",
    "\n",
    "traffic_clean_ml['VSURCOND'].value_counts()\n"
   ]
  },
  {
   "cell_type": "code",
   "execution_count": 12,
   "metadata": {},
   "outputs": [
    {
     "data": {
      "text/plain": [
       "Dry                                       43981\n",
       "Wet                                        6132\n",
       "Ice/Frost                                   641\n",
       "Snow                                        589\n",
       "Non-Trafficway Area or Driveway Access      311\n",
       "Slush                                       124\n",
       "Mud, Dirt, Gravel                           105\n",
       "Water (Standing or Moving)                   89\n",
       "Sand                                          5\n",
       "Oil                                           3\n",
       "Name: VSURCOND, dtype: int64"
      ]
     },
     "execution_count": 12,
     "metadata": {},
     "output_type": "execute_result"
    }
   ],
   "source": [
    "#Create dictionary based on NHTSA manual-given values\n",
    "\n",
    "surface_dict = {\n",
    "    0: 'Non-Trafficway Area or Driveway Access',\n",
    "    1: 'Dry',\n",
    "    2: 'Wet',\n",
    "    3: 'Snow',\n",
    "    4: 'Ice/Frost',\n",
    "    5: 'Sand',\n",
    "    6: 'Water (Standing or Moving)',\n",
    "    7: 'Oil',\n",
    "    10: 'Slush',\n",
    "    11: 'Mud, Dirt, Gravel'\n",
    "}\n",
    "\n",
    "#Loop through values in column and reset values matching key to value in dictionary \n",
    "#to get substantive information for variable\n",
    "\n",
    "for i in np.arange(0, len(traffic_clean_ml['VSURCOND'])):\n",
    "    for key, val in surface_dict.items():\n",
    "        if i == key:\n",
    "            traffic_clean_ml['VSURCOND'].replace(i, val, inplace=True)\n",
    "\n",
    "\n",
    "#Check values\n",
    "traffic_clean_ml['VSURCOND'].value_counts()\n",
    "\n"
   ]
  },
  {
   "cell_type": "code",
   "execution_count": 13,
   "metadata": {},
   "outputs": [
    {
     "data": {
      "text/plain": [
       "0    41699\n",
       "1    10281\n",
       "Name: BIN_VTCONT_F, dtype: int64"
      ]
     },
     "execution_count": 13,
     "metadata": {},
     "output_type": "execute_result"
    }
   ],
   "source": [
    "#Convert to binary--change unknowns 8 and 9 to zero\n",
    "\n",
    "traffic_clean_ml['BIN_VTCONT_F'] = traffic_clean_ml['VTCONT_F']\n",
    "\n",
    "traffic_clean_ml.loc[(traffic_clean_ml['BIN_VTCONT_F'] == 8) | (traffic_clean_ml['BIN_VTCONT_F'] == 9), 'BIN_VTCONT_F'] = 0\n",
    "\n",
    "#Convert 1 (not functioning) and 2 (not functioning properly) to zero (no controls) \n",
    "\n",
    "traffic_clean_ml.loc[(traffic_clean_ml['BIN_VTCONT_F'] < 3), 'BIN_VTCONT_F'] = 0\n",
    "\n",
    "#Then convert the rest (3, functioning) to 1\n",
    "traffic_clean_ml.loc[(traffic_clean_ml['BIN_VTCONT_F'] == 3), 'BIN_VTCONT_F'] = 1\n",
    "\n",
    "traffic_clean_ml['BIN_VTCONT_F'].value_counts()\n",
    "\n"
   ]
  },
  {
   "cell_type": "code",
   "execution_count": 14,
   "metadata": {},
   "outputs": [
    {
     "data": {
      "text/plain": [
       "1    39450\n",
       "2     5603\n",
       "6     2962\n",
       "5     2163\n",
       "3     1283\n",
       "0      311\n",
       "4      208\n",
       "Name: VPROFILE, dtype: int64"
      ]
     },
     "execution_count": 14,
     "metadata": {},
     "output_type": "execute_result"
    }
   ],
   "source": [
    "#Convert VPROFILE to binary--first get descriptions, then convert using get_dummies later\n",
    "#Remove unknown/Other values--change to 1, Level\n",
    "\n",
    "traffic_clean_ml.loc[(traffic_clean_ml['VPROFILE'] == 8) | (traffic_clean_ml['VPROFILE'] == 9), 'VPROFILE'] = 1\n",
    "\n",
    "traffic_clean_ml['VPROFILE'].value_counts()\n",
    "\n"
   ]
  },
  {
   "cell_type": "code",
   "execution_count": 15,
   "metadata": {},
   "outputs": [
    {
     "data": {
      "text/plain": [
       "Level                                39450\n",
       "Grade, Unknown Slope                  5603\n",
       "Downhill                              2962\n",
       "Uphill                                2163\n",
       "Hillcrest                             1283\n",
       "Non-Trafficway or Driveway Access      311\n",
       "Sag (Bottom)                           208\n",
       "Name: VPROFILE, dtype: int64"
      ]
     },
     "execution_count": 15,
     "metadata": {},
     "output_type": "execute_result"
    }
   ],
   "source": [
    "#Create dictionary based on NHTSA manual-given values\n",
    "\n",
    "road_grade_dict = {\n",
    "    0: 'Non-Trafficway or Driveway Access',\n",
    "    1: 'Level',\n",
    "    2: 'Grade, Unknown Slope',\n",
    "    3: 'Hillcrest',\n",
    "    4: 'Sag (Bottom)',\n",
    "    5: 'Uphill',\n",
    "    6: 'Downhill'\n",
    "}\n",
    "\n",
    "#Loop through values in column and reset values matching key to value in dictionary \n",
    "#to get substantive information for variable\n",
    "\n",
    "for i in np.arange(0, len(traffic_clean_ml['VPROFILE'])):\n",
    "    for key, val in road_grade_dict.items():\n",
    "        if i == key:\n",
    "            traffic_clean_ml['VPROFILE'].replace(i, val, inplace=True)\n",
    "\n",
    "\n",
    "#Check values\n",
    "traffic_clean_ml['VPROFILE'].value_counts()\n",
    "\n"
   ]
  },
  {
   "cell_type": "code",
   "execution_count": 16,
   "metadata": {},
   "outputs": [
    {
     "data": {
      "text/plain": [
       "1    35650\n",
       "0    16330\n",
       "Name: BIN_VSPD_LIM, dtype: int64"
      ]
     },
     "execution_count": 16,
     "metadata": {},
     "output_type": "execute_result"
    }
   ],
   "source": [
    "#Convert VSPD_LIM to binary--0 for City Speeds, 1 for Highway Speeds\n",
    "#Remove unknown/Other values 98, 99--change to zero\n",
    "traffic_clean_ml['BIN_VSPD_LIM'] = traffic_clean_ml['VSPD_LIM']\n",
    "\n",
    "traffic_clean_ml.loc[(traffic_clean_ml['BIN_VSPD_LIM'] == 98) | (traffic_clean_ml['BIN_VSPD_LIM'] == 99), 'BIN_VSPD_LIM'] = 0\n",
    "\n",
    "#Convert speeds greater than or equal to 45 to 1--deemed highway speeds\n",
    "traffic_clean_ml.loc[(traffic_clean_ml['BIN_VSPD_LIM'] >= 45), 'BIN_VSPD_LIM'] = 1\n",
    "\n",
    "#Convert remaining speeds less than 45 to 0--deemed city speeds\n",
    "\n",
    "traffic_clean_ml.loc[(traffic_clean_ml['BIN_VSPD_LIM'] != 1), 'BIN_VSPD_LIM'] = 0\n",
    "\n",
    "traffic_clean_ml['BIN_VSPD_LIM'].value_counts()\n",
    "\n"
   ]
  },
  {
   "cell_type": "code",
   "execution_count": 17,
   "metadata": {},
   "outputs": [
    {
     "data": {
      "text/plain": [
       "7     4921\n",
       "8     4865\n",
       "10    4830\n",
       "5     4582\n",
       "9     4547\n",
       "6     4482\n",
       "12    4412\n",
       "11    4384\n",
       "4     3971\n",
       "3     3961\n",
       "1     3822\n",
       "2     3203\n",
       "Name: MONTH, dtype: int64"
      ]
     },
     "execution_count": 17,
     "metadata": {},
     "output_type": "execute_result"
    }
   ],
   "source": [
    "#Convert MONTH to binary--first get descriptions, then convert using get_dummies later\n",
    "#Check for unknown/Other values--None\n",
    "\n",
    "traffic_clean_ml['MONTH'].value_counts()\n",
    "\n"
   ]
  },
  {
   "cell_type": "code",
   "execution_count": 18,
   "metadata": {},
   "outputs": [
    {
     "data": {
      "text/plain": [
       "July         4921\n",
       "August       4865\n",
       "October      4830\n",
       "May          4582\n",
       "September    4547\n",
       "June         4482\n",
       "December     4412\n",
       "November     4384\n",
       "April        3971\n",
       "March        3961\n",
       "January      3822\n",
       "February     3203\n",
       "Name: MONTH, dtype: int64"
      ]
     },
     "execution_count": 18,
     "metadata": {},
     "output_type": "execute_result"
    }
   ],
   "source": [
    "#Create dictionary based on NHTSA manual-given values\n",
    "\n",
    "month_dict = {\n",
    "    1: 'January',\n",
    "    2: 'February',\n",
    "    3: 'March',\n",
    "    4: 'April',\n",
    "    5: 'May',\n",
    "    6: 'June',\n",
    "    7: 'July',\n",
    "    8: 'August',\n",
    "    9: 'September',\n",
    "    10: 'October',\n",
    "    11: 'November',\n",
    "    12: 'December'\n",
    "}\n",
    "\n",
    "#Loop through values in column and reset values matching key to value in dictionary \n",
    "#to get substantive information for variable\n",
    "\n",
    "for i in np.arange(0, len(traffic_clean_ml['MONTH'])):\n",
    "    for key, val in month_dict.items():\n",
    "        if i == key:\n",
    "            traffic_clean_ml['MONTH'].replace(i, val, inplace=True)\n",
    "\n",
    "\n",
    "#Check values\n",
    "traffic_clean_ml['MONTH'].value_counts()\n",
    "\n"
   ]
  },
  {
   "cell_type": "code",
   "execution_count": 19,
   "metadata": {},
   "outputs": [
    {
     "data": {
      "text/plain": [
       "7    8839\n",
       "6    8040\n",
       "1    8039\n",
       "5    7175\n",
       "4    6818\n",
       "3    6537\n",
       "2    6532\n",
       "Name: DAY_WEEK, dtype: int64"
      ]
     },
     "execution_count": 19,
     "metadata": {},
     "output_type": "execute_result"
    }
   ],
   "source": [
    "#Convert DAY_WEEK to binary--first get descriptions, then convert using get_dummies later\n",
    "#Check for unknown/Other values--None\n",
    "\n",
    "traffic_clean_ml['DAY_WEEK'].value_counts()\n",
    "\n"
   ]
  },
  {
   "cell_type": "code",
   "execution_count": 20,
   "metadata": {},
   "outputs": [
    {
     "data": {
      "text/plain": [
       "Saturday     8839\n",
       "Friday       8040\n",
       "Sunday       8039\n",
       "Thursday     7175\n",
       "Wednesday    6818\n",
       "Tuesday      6537\n",
       "Monday       6532\n",
       "Name: DAY_WEEK, dtype: int64"
      ]
     },
     "execution_count": 20,
     "metadata": {},
     "output_type": "execute_result"
    }
   ],
   "source": [
    "#Create dictionary based on NHTSA manual-given values\n",
    "\n",
    "weekday_dict = {\n",
    "    1: 'Sunday',\n",
    "    2: 'Monday',\n",
    "    3: 'Tuesday',\n",
    "    4: 'Wednesday',\n",
    "    5: 'Thursday',\n",
    "    6: 'Friday',\n",
    "    7: 'Saturday'\n",
    "}\n",
    "\n",
    "#Loop through values in column and reset values matching key to value in dictionary \n",
    "#to get substantive information for variable\n",
    "\n",
    "for i in np.arange(0, len(traffic_clean_ml['DAY_WEEK'])):\n",
    "    for key, val in weekday_dict.items():\n",
    "        if i == key:\n",
    "            traffic_clean_ml['DAY_WEEK'].replace(i, val, inplace=True)\n",
    "\n",
    "\n",
    "#Check values\n",
    "traffic_clean_ml['DAY_WEEK'].value_counts()\n",
    "\n"
   ]
  },
  {
   "cell_type": "markdown",
   "metadata": {},
   "source": [
    "Three of the variables were purely numerical variables, Travel Speed ('TRAV_SP'), the driver's age ('AGE') and the number of drunk drivers involved in the accident ('DRUNK_DR'). Since nearly all of the other variables in the model were going to be binary categorical variables, I determined that the three numeric variables needed to be standardized in order to place them on roughly the same footing as the binaries so as not to unduly skew the data.  Accordingly, I divided each variable by twice their standard deviations.  *See also*, [here](http://andrewgelman.com/2009/07/11/when_to_standar/), providing additional justification for the aforementioned procedure.   "
   ]
  },
  {
   "cell_type": "code",
   "execution_count": 21,
   "metadata": {},
   "outputs": [
    {
     "data": {
      "text/html": [
       "<div>\n",
       "<style>\n",
       "    .dataframe thead tr:only-child th {\n",
       "        text-align: right;\n",
       "    }\n",
       "\n",
       "    .dataframe thead th {\n",
       "        text-align: left;\n",
       "    }\n",
       "\n",
       "    .dataframe tbody tr th {\n",
       "        vertical-align: top;\n",
       "    }\n",
       "</style>\n",
       "<table border=\"1\" class=\"dataframe\">\n",
       "  <thead>\n",
       "    <tr style=\"text-align: right;\">\n",
       "      <th></th>\n",
       "      <th>TRAV_SP</th>\n",
       "      <th>AGE</th>\n",
       "      <th>DRUNK_DR</th>\n",
       "    </tr>\n",
       "  </thead>\n",
       "  <tbody>\n",
       "    <tr>\n",
       "      <th>0</th>\n",
       "      <td>1.023354</td>\n",
       "      <td>1.809944</td>\n",
       "      <td>1.048516</td>\n",
       "    </tr>\n",
       "    <tr>\n",
       "      <th>1</th>\n",
       "      <td>1.302451</td>\n",
       "      <td>1.304224</td>\n",
       "      <td>0.000000</td>\n",
       "    </tr>\n",
       "    <tr>\n",
       "      <th>2</th>\n",
       "      <td>1.488515</td>\n",
       "      <td>0.825121</td>\n",
       "      <td>1.048516</td>\n",
       "    </tr>\n",
       "    <tr>\n",
       "      <th>4</th>\n",
       "      <td>1.395483</td>\n",
       "      <td>1.064673</td>\n",
       "      <td>1.048516</td>\n",
       "    </tr>\n",
       "    <tr>\n",
       "      <th>5</th>\n",
       "      <td>0.279097</td>\n",
       "      <td>0.638804</td>\n",
       "      <td>0.000000</td>\n",
       "    </tr>\n",
       "  </tbody>\n",
       "</table>\n",
       "</div>"
      ],
      "text/plain": [
       "    TRAV_SP       AGE  DRUNK_DR\n",
       "0  1.023354  1.809944  1.048516\n",
       "1  1.302451  1.304224  0.000000\n",
       "2  1.488515  0.825121  1.048516\n",
       "4  1.395483  1.064673  1.048516\n",
       "5  0.279097  0.638804  0.000000"
      ]
     },
     "execution_count": 21,
     "metadata": {},
     "output_type": "execute_result"
    }
   ],
   "source": [
    "#Standardize numerical variables--divide by 2 standard deviations to place on approximately \n",
    "#equal footing with remaining binary variables.\n",
    "\n",
    "num_vars = ['TRAV_SP', 'AGE', 'DRUNK_DR']\n",
    "\n",
    "for v in num_vars:\n",
    "    traffic_clean_ml[v] = traffic_clean_ml[v]/(2 * np.std(traffic_clean_ml[v]))\n",
    "\n",
    "\n",
    "#Show standardized variables\n",
    "traffic_clean_ml[num_vars].head()\n",
    "\n"
   ]
  },
  {
   "cell_type": "markdown",
   "metadata": {},
   "source": [
    "I then converted the variables with descriptions obtained from the NHTSA manual to binaries using pandas' get_dummies function, resulting in the creation of several new binary columns.  The original, non-binary columns were then dropped. At this point, the dataframe contained 77 columns and was ready for the application of machine learning algorithms.  "
   ]
  },
  {
   "cell_type": "code",
   "execution_count": 22,
   "metadata": {},
   "outputs": [
    {
     "data": {
      "text/html": [
       "<div>\n",
       "<style>\n",
       "    .dataframe thead tr:only-child th {\n",
       "        text-align: right;\n",
       "    }\n",
       "\n",
       "    .dataframe thead th {\n",
       "        text-align: left;\n",
       "    }\n",
       "\n",
       "    .dataframe tbody tr th {\n",
       "        vertical-align: top;\n",
       "    }\n",
       "</style>\n",
       "<table border=\"1\" class=\"dataframe\">\n",
       "  <thead>\n",
       "    <tr style=\"text-align: right;\">\n",
       "      <th></th>\n",
       "      <th>HOUR</th>\n",
       "      <th>RUR_URB</th>\n",
       "      <th>ROUTE</th>\n",
       "      <th>WRK_ZONE</th>\n",
       "      <th>DRUNK_DR</th>\n",
       "      <th>HAZ_INV</th>\n",
       "      <th>TRAV_SP</th>\n",
       "      <th>SPEEDREL</th>\n",
       "      <th>VSPD_LIM</th>\n",
       "      <th>VPAVETYP</th>\n",
       "      <th>...</th>\n",
       "      <th>BIN_Other (Adverse Weather)</th>\n",
       "      <th>BIN_Rain</th>\n",
       "      <th>BIN_Severe Crosswinds</th>\n",
       "      <th>BIN_Sleet, Hail</th>\n",
       "      <th>BIN_Snow</th>\n",
       "      <th>BIN_Dark – Not Lighted</th>\n",
       "      <th>BIN_Dark – Unknown Lighting</th>\n",
       "      <th>BIN_Dawn</th>\n",
       "      <th>BIN_Daylight</th>\n",
       "      <th>BIN_Dusk</th>\n",
       "    </tr>\n",
       "  </thead>\n",
       "  <tbody>\n",
       "    <tr>\n",
       "      <th>0</th>\n",
       "      <td>2</td>\n",
       "      <td>1</td>\n",
       "      <td>3</td>\n",
       "      <td>0</td>\n",
       "      <td>1.048516</td>\n",
       "      <td>1</td>\n",
       "      <td>1.023354</td>\n",
       "      <td>0</td>\n",
       "      <td>55</td>\n",
       "      <td>2</td>\n",
       "      <td>...</td>\n",
       "      <td>0</td>\n",
       "      <td>0</td>\n",
       "      <td>0</td>\n",
       "      <td>0</td>\n",
       "      <td>0</td>\n",
       "      <td>1</td>\n",
       "      <td>0</td>\n",
       "      <td>0</td>\n",
       "      <td>0</td>\n",
       "      <td>0</td>\n",
       "    </tr>\n",
       "    <tr>\n",
       "      <th>1</th>\n",
       "      <td>22</td>\n",
       "      <td>1</td>\n",
       "      <td>1</td>\n",
       "      <td>0</td>\n",
       "      <td>0.000000</td>\n",
       "      <td>1</td>\n",
       "      <td>1.302451</td>\n",
       "      <td>4</td>\n",
       "      <td>70</td>\n",
       "      <td>2</td>\n",
       "      <td>...</td>\n",
       "      <td>0</td>\n",
       "      <td>0</td>\n",
       "      <td>0</td>\n",
       "      <td>0</td>\n",
       "      <td>0</td>\n",
       "      <td>1</td>\n",
       "      <td>0</td>\n",
       "      <td>0</td>\n",
       "      <td>0</td>\n",
       "      <td>0</td>\n",
       "    </tr>\n",
       "    <tr>\n",
       "      <th>2</th>\n",
       "      <td>1</td>\n",
       "      <td>1</td>\n",
       "      <td>2</td>\n",
       "      <td>0</td>\n",
       "      <td>1.048516</td>\n",
       "      <td>1</td>\n",
       "      <td>1.488515</td>\n",
       "      <td>0</td>\n",
       "      <td>55</td>\n",
       "      <td>2</td>\n",
       "      <td>...</td>\n",
       "      <td>0</td>\n",
       "      <td>0</td>\n",
       "      <td>0</td>\n",
       "      <td>0</td>\n",
       "      <td>0</td>\n",
       "      <td>1</td>\n",
       "      <td>0</td>\n",
       "      <td>0</td>\n",
       "      <td>0</td>\n",
       "      <td>0</td>\n",
       "    </tr>\n",
       "    <tr>\n",
       "      <th>4</th>\n",
       "      <td>0</td>\n",
       "      <td>1</td>\n",
       "      <td>3</td>\n",
       "      <td>0</td>\n",
       "      <td>1.048516</td>\n",
       "      <td>1</td>\n",
       "      <td>1.395483</td>\n",
       "      <td>0</td>\n",
       "      <td>55</td>\n",
       "      <td>2</td>\n",
       "      <td>...</td>\n",
       "      <td>0</td>\n",
       "      <td>0</td>\n",
       "      <td>0</td>\n",
       "      <td>0</td>\n",
       "      <td>0</td>\n",
       "      <td>1</td>\n",
       "      <td>0</td>\n",
       "      <td>0</td>\n",
       "      <td>0</td>\n",
       "      <td>0</td>\n",
       "    </tr>\n",
       "    <tr>\n",
       "      <th>5</th>\n",
       "      <td>7</td>\n",
       "      <td>2</td>\n",
       "      <td>2</td>\n",
       "      <td>0</td>\n",
       "      <td>0.000000</td>\n",
       "      <td>1</td>\n",
       "      <td>0.279097</td>\n",
       "      <td>0</td>\n",
       "      <td>65</td>\n",
       "      <td>2</td>\n",
       "      <td>...</td>\n",
       "      <td>0</td>\n",
       "      <td>0</td>\n",
       "      <td>0</td>\n",
       "      <td>0</td>\n",
       "      <td>0</td>\n",
       "      <td>0</td>\n",
       "      <td>0</td>\n",
       "      <td>0</td>\n",
       "      <td>1</td>\n",
       "      <td>0</td>\n",
       "    </tr>\n",
       "  </tbody>\n",
       "</table>\n",
       "<p>5 rows × 93 columns</p>\n",
       "</div>"
      ],
      "text/plain": [
       "   HOUR  RUR_URB  ROUTE  WRK_ZONE  DRUNK_DR  HAZ_INV   TRAV_SP  SPEEDREL  \\\n",
       "0     2        1      3         0  1.048516        1  1.023354         0   \n",
       "1    22        1      1         0  0.000000        1  1.302451         4   \n",
       "2     1        1      2         0  1.048516        1  1.488515         0   \n",
       "4     0        1      3         0  1.048516        1  1.395483         0   \n",
       "5     7        2      2         0  0.000000        1  0.279097         0   \n",
       "\n",
       "   VSPD_LIM  VPAVETYP    ...     BIN_Other (Adverse Weather)  BIN_Rain  \\\n",
       "0        55         2    ...                               0         0   \n",
       "1        70         2    ...                               0         0   \n",
       "2        55         2    ...                               0         0   \n",
       "4        55         2    ...                               0         0   \n",
       "5        65         2    ...                               0         0   \n",
       "\n",
       "   BIN_Severe Crosswinds  BIN_Sleet, Hail  BIN_Snow  BIN_Dark – Not Lighted  \\\n",
       "0                      0                0         0                       1   \n",
       "1                      0                0         0                       1   \n",
       "2                      0                0         0                       1   \n",
       "4                      0                0         0                       1   \n",
       "5                      0                0         0                       0   \n",
       "\n",
       "   BIN_Dark – Unknown Lighting  BIN_Dawn  BIN_Daylight  BIN_Dusk  \n",
       "0                            0         0             0         0  \n",
       "1                            0         0             0         0  \n",
       "2                            0         0             0         0  \n",
       "4                            0         0             0         0  \n",
       "5                            0         0             1         0  \n",
       "\n",
       "[5 rows x 93 columns]"
      ]
     },
     "execution_count": 22,
     "metadata": {},
     "output_type": "execute_result"
    }
   ],
   "source": [
    "#Create dummy variables based on substantive descriptions\n",
    "\n",
    "traffic_clean_ml = pd.get_dummies(traffic_clean_ml, prefix='BIN', columns=['MONTH', 'DAY_WEEK',\n",
    "                'RELJCT2', 'VPROFILE', 'VSURCOND', 'WEATHER', 'LGT_COND'], drop_first=True)\n",
    "    \n",
    "traffic_clean_ml.head()\n"
   ]
  },
  {
   "cell_type": "code",
   "execution_count": 23,
   "metadata": {},
   "outputs": [
    {
     "data": {
      "text/plain": [
       "Index(['HOUR', 'RUR_URB', 'ROUTE', 'WRK_ZONE', 'DRUNK_DR', 'HAZ_INV',\n",
       "       'TRAV_SP', 'SPEEDREL', 'VSPD_LIM', 'VPAVETYP', 'VTRAFCON', 'VTCONT_F',\n",
       "       'AGE', 'REST_USE', 'DRUGS', 'MDRDSTRD', 'DRIMPAIR', 'MFACTOR',\n",
       "       'MDRMANAV', 'MVISOBSC', 'BIN_WRK_ZONE', 'BIN_SPEEDREL', 'BIN_REST_USE',\n",
       "       'BIN_DRUGS', 'BIN_MDRDSTRD', 'BIN_DRIMPAIR', 'BIN_MFACTOR',\n",
       "       'BIN_MDRMANAV', 'BIN_MVISOBSC', 'SERIOUS_FATALS', 'BIN_RUR_URB',\n",
       "       'BIN_HAZ_INV', 'BIN_VTCONT_F', 'BIN_VSPD_LIM', 'BIN_August',\n",
       "       'BIN_December', 'BIN_February', 'BIN_January', 'BIN_July', 'BIN_June',\n",
       "       'BIN_March', 'BIN_May', 'BIN_November', 'BIN_October', 'BIN_September',\n",
       "       'BIN_Monday', 'BIN_Saturday', 'BIN_Sunday', 'BIN_Thursday',\n",
       "       'BIN_Tuesday', 'BIN_Wednesday', 'BIN_Crossover Related',\n",
       "       'BIN_Driveway Access', 'BIN_Driveway Access Related',\n",
       "       'BIN_Entrance/Exit Ramp', 'BIN_Entrance/Exit Ramp Related',\n",
       "       'BIN_Intersection', 'BIN_Intersection Related', 'BIN_Non-Junction',\n",
       "       'BIN_Other Location Within Interchange Area',\n",
       "       'BIN_Railway Grade Crossing', 'BIN_Shared-Use Path Crossing',\n",
       "       'BIN_Through Roadway', 'BIN_Grade, Unknown Slope', 'BIN_Hillcrest',\n",
       "       'BIN_Level', 'BIN_Non-Trafficway or Driveway Access',\n",
       "       'BIN_Sag (Bottom)', 'BIN_Uphill', 'BIN_Ice/Frost',\n",
       "       'BIN_Mud, Dirt, Gravel', 'BIN_Non-Trafficway Area or Driveway Access',\n",
       "       'BIN_Oil', 'BIN_Sand', 'BIN_Slush', 'BIN_Snow',\n",
       "       'BIN_Water (Standing or Moving)', 'BIN_Wet', 'BIN_Blowing Snow',\n",
       "       'BIN_Clear', 'BIN_Cloudy', 'BIN_Fog, Smog, Smoke',\n",
       "       'BIN_Freezing Rain or Drizzle', 'BIN_Other (Adverse Weather)',\n",
       "       'BIN_Rain', 'BIN_Severe Crosswinds', 'BIN_Sleet, Hail', 'BIN_Snow',\n",
       "       'BIN_Dark – Not Lighted', 'BIN_Dark – Unknown Lighting', 'BIN_Dawn',\n",
       "       'BIN_Daylight', 'BIN_Dusk'],\n",
       "      dtype='object')"
      ]
     },
     "execution_count": 23,
     "metadata": {},
     "output_type": "execute_result"
    }
   ],
   "source": [
    "#Show all new columns\n",
    "traffic_clean_ml.columns"
   ]
  },
  {
   "cell_type": "code",
   "execution_count": 24,
   "metadata": {},
   "outputs": [
    {
     "name": "stdout",
     "output_type": "stream",
     "text": [
      "Index(['HOUR', 'DRUNK_DR', 'TRAV_SP', 'AGE', 'BIN_WRK_ZONE', 'BIN_SPEEDREL',\n",
      "       'BIN_REST_USE', 'BIN_DRUGS', 'BIN_MDRDSTRD', 'BIN_DRIMPAIR',\n",
      "       'BIN_MFACTOR', 'BIN_MDRMANAV', 'BIN_MVISOBSC', 'SERIOUS_FATALS',\n",
      "       'BIN_RUR_URB', 'BIN_HAZ_INV', 'BIN_VTCONT_F', 'BIN_VSPD_LIM',\n",
      "       'BIN_August', 'BIN_December', 'BIN_February', 'BIN_January', 'BIN_July',\n",
      "       'BIN_June', 'BIN_March', 'BIN_May', 'BIN_November', 'BIN_October',\n",
      "       'BIN_September', 'BIN_Monday', 'BIN_Saturday', 'BIN_Sunday',\n",
      "       'BIN_Thursday', 'BIN_Tuesday', 'BIN_Wednesday', 'BIN_Crossover Related',\n",
      "       'BIN_Driveway Access', 'BIN_Driveway Access Related',\n",
      "       'BIN_Entrance/Exit Ramp', 'BIN_Entrance/Exit Ramp Related',\n",
      "       'BIN_Intersection', 'BIN_Intersection Related', 'BIN_Non-Junction',\n",
      "       'BIN_Other Location Within Interchange Area',\n",
      "       'BIN_Railway Grade Crossing', 'BIN_Shared-Use Path Crossing',\n",
      "       'BIN_Through Roadway', 'BIN_Grade, Unknown Slope', 'BIN_Hillcrest',\n",
      "       'BIN_Level', 'BIN_Non-Trafficway or Driveway Access',\n",
      "       'BIN_Sag (Bottom)', 'BIN_Uphill', 'BIN_Ice/Frost',\n",
      "       'BIN_Mud, Dirt, Gravel', 'BIN_Non-Trafficway Area or Driveway Access',\n",
      "       'BIN_Oil', 'BIN_Sand', 'BIN_Slush', 'BIN_Snow',\n",
      "       'BIN_Water (Standing or Moving)', 'BIN_Wet', 'BIN_Blowing Snow',\n",
      "       'BIN_Clear', 'BIN_Cloudy', 'BIN_Fog, Smog, Smoke',\n",
      "       'BIN_Freezing Rain or Drizzle', 'BIN_Other (Adverse Weather)',\n",
      "       'BIN_Rain', 'BIN_Severe Crosswinds', 'BIN_Sleet, Hail', 'BIN_Snow',\n",
      "       'BIN_Dark – Not Lighted', 'BIN_Dark – Unknown Lighting', 'BIN_Dawn',\n",
      "       'BIN_Daylight', 'BIN_Dusk'],\n",
      "      dtype='object')\n"
     ]
    },
    {
     "data": {
      "text/html": [
       "<div>\n",
       "<style>\n",
       "    .dataframe thead tr:only-child th {\n",
       "        text-align: right;\n",
       "    }\n",
       "\n",
       "    .dataframe thead th {\n",
       "        text-align: left;\n",
       "    }\n",
       "\n",
       "    .dataframe tbody tr th {\n",
       "        vertical-align: top;\n",
       "    }\n",
       "</style>\n",
       "<table border=\"1\" class=\"dataframe\">\n",
       "  <thead>\n",
       "    <tr style=\"text-align: right;\">\n",
       "      <th></th>\n",
       "      <th>HOUR</th>\n",
       "      <th>DRUNK_DR</th>\n",
       "      <th>TRAV_SP</th>\n",
       "      <th>AGE</th>\n",
       "      <th>BIN_WRK_ZONE</th>\n",
       "      <th>BIN_SPEEDREL</th>\n",
       "      <th>BIN_REST_USE</th>\n",
       "      <th>BIN_DRUGS</th>\n",
       "      <th>BIN_MDRDSTRD</th>\n",
       "      <th>BIN_DRIMPAIR</th>\n",
       "      <th>...</th>\n",
       "      <th>BIN_Other (Adverse Weather)</th>\n",
       "      <th>BIN_Rain</th>\n",
       "      <th>BIN_Severe Crosswinds</th>\n",
       "      <th>BIN_Sleet, Hail</th>\n",
       "      <th>BIN_Snow</th>\n",
       "      <th>BIN_Dark – Not Lighted</th>\n",
       "      <th>BIN_Dark – Unknown Lighting</th>\n",
       "      <th>BIN_Dawn</th>\n",
       "      <th>BIN_Daylight</th>\n",
       "      <th>BIN_Dusk</th>\n",
       "    </tr>\n",
       "  </thead>\n",
       "  <tbody>\n",
       "    <tr>\n",
       "      <th>0</th>\n",
       "      <td>2</td>\n",
       "      <td>1.048516</td>\n",
       "      <td>1.023354</td>\n",
       "      <td>1.809944</td>\n",
       "      <td>0</td>\n",
       "      <td>0</td>\n",
       "      <td>0</td>\n",
       "      <td>0</td>\n",
       "      <td>0</td>\n",
       "      <td>0</td>\n",
       "      <td>...</td>\n",
       "      <td>0</td>\n",
       "      <td>0</td>\n",
       "      <td>0</td>\n",
       "      <td>0</td>\n",
       "      <td>0</td>\n",
       "      <td>1</td>\n",
       "      <td>0</td>\n",
       "      <td>0</td>\n",
       "      <td>0</td>\n",
       "      <td>0</td>\n",
       "    </tr>\n",
       "    <tr>\n",
       "      <th>1</th>\n",
       "      <td>22</td>\n",
       "      <td>0.000000</td>\n",
       "      <td>1.302451</td>\n",
       "      <td>1.304224</td>\n",
       "      <td>0</td>\n",
       "      <td>1</td>\n",
       "      <td>0</td>\n",
       "      <td>0</td>\n",
       "      <td>0</td>\n",
       "      <td>0</td>\n",
       "      <td>...</td>\n",
       "      <td>0</td>\n",
       "      <td>0</td>\n",
       "      <td>0</td>\n",
       "      <td>0</td>\n",
       "      <td>0</td>\n",
       "      <td>1</td>\n",
       "      <td>0</td>\n",
       "      <td>0</td>\n",
       "      <td>0</td>\n",
       "      <td>0</td>\n",
       "    </tr>\n",
       "    <tr>\n",
       "      <th>2</th>\n",
       "      <td>1</td>\n",
       "      <td>1.048516</td>\n",
       "      <td>1.488515</td>\n",
       "      <td>0.825121</td>\n",
       "      <td>0</td>\n",
       "      <td>0</td>\n",
       "      <td>0</td>\n",
       "      <td>0</td>\n",
       "      <td>0</td>\n",
       "      <td>1</td>\n",
       "      <td>...</td>\n",
       "      <td>0</td>\n",
       "      <td>0</td>\n",
       "      <td>0</td>\n",
       "      <td>0</td>\n",
       "      <td>0</td>\n",
       "      <td>1</td>\n",
       "      <td>0</td>\n",
       "      <td>0</td>\n",
       "      <td>0</td>\n",
       "      <td>0</td>\n",
       "    </tr>\n",
       "    <tr>\n",
       "      <th>4</th>\n",
       "      <td>0</td>\n",
       "      <td>1.048516</td>\n",
       "      <td>1.395483</td>\n",
       "      <td>1.064673</td>\n",
       "      <td>0</td>\n",
       "      <td>0</td>\n",
       "      <td>0</td>\n",
       "      <td>0</td>\n",
       "      <td>0</td>\n",
       "      <td>1</td>\n",
       "      <td>...</td>\n",
       "      <td>0</td>\n",
       "      <td>0</td>\n",
       "      <td>0</td>\n",
       "      <td>0</td>\n",
       "      <td>0</td>\n",
       "      <td>1</td>\n",
       "      <td>0</td>\n",
       "      <td>0</td>\n",
       "      <td>0</td>\n",
       "      <td>0</td>\n",
       "    </tr>\n",
       "    <tr>\n",
       "      <th>5</th>\n",
       "      <td>7</td>\n",
       "      <td>0.000000</td>\n",
       "      <td>0.279097</td>\n",
       "      <td>0.638804</td>\n",
       "      <td>0</td>\n",
       "      <td>0</td>\n",
       "      <td>1</td>\n",
       "      <td>0</td>\n",
       "      <td>0</td>\n",
       "      <td>0</td>\n",
       "      <td>...</td>\n",
       "      <td>0</td>\n",
       "      <td>0</td>\n",
       "      <td>0</td>\n",
       "      <td>0</td>\n",
       "      <td>0</td>\n",
       "      <td>0</td>\n",
       "      <td>0</td>\n",
       "      <td>0</td>\n",
       "      <td>1</td>\n",
       "      <td>0</td>\n",
       "    </tr>\n",
       "  </tbody>\n",
       "</table>\n",
       "<p>5 rows × 77 columns</p>\n",
       "</div>"
      ],
      "text/plain": [
       "   HOUR  DRUNK_DR   TRAV_SP       AGE  BIN_WRK_ZONE  BIN_SPEEDREL  \\\n",
       "0     2  1.048516  1.023354  1.809944             0             0   \n",
       "1    22  0.000000  1.302451  1.304224             0             1   \n",
       "2     1  1.048516  1.488515  0.825121             0             0   \n",
       "4     0  1.048516  1.395483  1.064673             0             0   \n",
       "5     7  0.000000  0.279097  0.638804             0             0   \n",
       "\n",
       "   BIN_REST_USE  BIN_DRUGS  BIN_MDRDSTRD  BIN_DRIMPAIR    ...     \\\n",
       "0             0          0             0             0    ...      \n",
       "1             0          0             0             0    ...      \n",
       "2             0          0             0             1    ...      \n",
       "4             0          0             0             1    ...      \n",
       "5             1          0             0             0    ...      \n",
       "\n",
       "   BIN_Other (Adverse Weather)  BIN_Rain  BIN_Severe Crosswinds  \\\n",
       "0                            0         0                      0   \n",
       "1                            0         0                      0   \n",
       "2                            0         0                      0   \n",
       "4                            0         0                      0   \n",
       "5                            0         0                      0   \n",
       "\n",
       "   BIN_Sleet, Hail  BIN_Snow  BIN_Dark – Not Lighted  \\\n",
       "0                0         0                       1   \n",
       "1                0         0                       1   \n",
       "2                0         0                       1   \n",
       "4                0         0                       1   \n",
       "5                0         0                       0   \n",
       "\n",
       "   BIN_Dark – Unknown Lighting  BIN_Dawn  BIN_Daylight  BIN_Dusk  \n",
       "0                            0         0             0         0  \n",
       "1                            0         0             0         0  \n",
       "2                            0         0             0         0  \n",
       "4                            0         0             0         0  \n",
       "5                            0         0             1         0  \n",
       "\n",
       "[5 rows x 77 columns]"
      ]
     },
     "execution_count": 24,
     "metadata": {},
     "output_type": "execute_result"
    }
   ],
   "source": [
    "#Drop additional columns that were converted to binary or containing duplicate information\n",
    "\n",
    "to_drop2 = ['RUR_URB', 'ROUTE', 'WRK_ZONE', 'HAZ_INV', 'SPEEDREL', 'VSPD_LIM', \n",
    "           'VPAVETYP', 'VTRAFCON', 'VTCONT_F', 'REST_USE', 'DRUGS', 'MDRDSTRD', 'DRIMPAIR', 'MFACTOR',\n",
    "           'MDRMANAV', 'MVISOBSC']\n",
    "\n",
    "traffic_clean_ml = traffic_clean_ml.drop(to_drop2, axis=1)\n",
    "\n",
    "#Show final list of columns\n",
    "print(traffic_clean_ml.columns)\n",
    "\n",
    "#Convert to csv for quick future access\n",
    "traffic_clean_ml.to_csv('traffic_clean_ml.csv')\n",
    "\n",
    "traffic_clean_ml.head()\n",
    "\n"
   ]
  },
  {
   "cell_type": "markdown",
   "metadata": {},
   "source": [
    "## Model Selection\n",
    "\n",
    "After preparing the dataset, called \"traffic_clean_ml\", I first split the dataset into an input dataframe and a target series, dropping the target variable 'SERIOUS_FATALS' from the prepared dataset to create an input dataframe X and created a second single column Series y consisting only of the target variable.  \n",
    "\n",
    "I next used sklearn's train_test_split function to split both X and y into train and test variables X_train, X_test, y_train and y_test such that 80% of the total dataset would be used for training the model, while 20% was withheld as unseen data for application of the model after training.  "
   ]
  },
  {
   "cell_type": "code",
   "execution_count": 25,
   "metadata": {
    "collapsed": true
   },
   "outputs": [],
   "source": [
    "import numpy as np\n",
    "import pandas as pd\n",
    "from sklearn.model_selection import train_test_split\n",
    "\n",
    "#Load processed dataframe from csv\n",
    "traffic_clean_ml = pd.read_csv('traffic_clean_ml.csv')\n",
    "\n",
    "#Drop extraneous column of index numbers\n",
    "traffic_clean_ml = traffic_clean_ml.drop(traffic_clean_ml.iloc[:, 0].name, axis=1)\n",
    "\n",
    "#Separate dataset into feature and target data\n",
    "X = traffic_clean_ml.drop(['SERIOUS_FATALS'], axis=1)\n",
    "y = traffic_clean_ml['SERIOUS_FATALS']\n",
    "\n",
    "#Split data into train and test sets with test size at 20%\n",
    "X_train, X_test, y_train, y_test = train_test_split(X.values, y.values, test_size = 0.2, random_state=42, stratify=y)\n",
    "\n"
   ]
  },
  {
   "cell_type": "markdown",
   "metadata": {},
   "source": [
    "However, the ratio of 0's to 1's in the target variable is more than 10:1.  Prediction would be very difficult for most models under these circumstances.  Therefore I utilized oversampling in order to balance out the dataset, specifically, the RandomOverSampler function from the imblearn package.  The results are shown below, first showing the original imbalanced count of the target variable's classes followed by the counts of the rebalanced data after oversampling.  "
   ]
  },
  {
   "cell_type": "code",
   "execution_count": 26,
   "metadata": {},
   "outputs": [
    {
     "name": "stdout",
     "output_type": "stream",
     "text": [
      "Resampled dataset shape Counter({0: 37932, 1: 3652})\n",
      "Resampled dataset shape Counter({0: 37932, 1: 37932})\n"
     ]
    }
   ],
   "source": [
    "#Imbalanced data (1's vs. 0's in SERIOUS_FATALS) requires oversampling to compensate\n",
    "from imblearn.over_sampling import RandomOverSampler \n",
    "from collections import Counter\n",
    "\n",
    "ros_train = RandomOverSampler(random_state=42)\n",
    "X_res_train, y_res_train = ros_train.fit_sample(X_train, y_train)\n",
    "\n",
    "ros_test = RandomOverSampler(random_state=42)\n",
    "X_res_test, y_res_test = ros_test.fit_sample(X_test, y_test)\n",
    "\n",
    "\n",
    "print('Resampled dataset shape {}'.format(Counter(y_train)))\n",
    "print('Resampled dataset shape {}'.format(Counter(y_res_train)))\n"
   ]
  },
  {
   "cell_type": "markdown",
   "metadata": {},
   "source": [
    "Given the categorical nature of the input and target variables, classification models appeared to be most appropriate here.  I assessed several classification models to determine which provided the strongest predictions:  logistic regression, an ensemble voting classifier and a k-nearest neighbors classifier.  \n",
    "\n",
    "### Logistic Regression\n",
    "\n",
    "To better prepare the dataset for logistic regression, I used a feature selection algorithm, recursive feature elimination (RFE) from sklearn, in order to narrow the data down to the most useful features.  RFE selected 18 features out of the total 76 which are shown below along with their rankings, with 1 being the strongest. The input dataframe X was then filtered for these features and the train_test_split and oversampling functions were then reapplied as before.  "
   ]
  },
  {
   "cell_type": "code",
   "execution_count": 27,
   "metadata": {},
   "outputs": [
    {
     "name": "stdout",
     "output_type": "stream",
     "text": [
      "BIN_SPEEDREL :  1\n",
      "BIN_DRIMPAIR :  2\n",
      "BIN_MVISOBSC :  1\n",
      "BIN_RUR_URB :  9\n",
      "BIN_HAZ_INV :  1\n",
      "BIN_VTCONT_F :  1\n",
      "BIN_VSPD_LIM :  1\n",
      "BIN_Intersection :  1\n",
      "BIN_Non-Junction :  1\n",
      "BIN_Other Location Within Interchange Area :  1\n",
      "BIN_Railway Grade Crossing :  1\n",
      "BIN_Shared-Use Path Crossing :  1\n",
      "BIN_Through Roadway :  4\n",
      "BIN_Uphill :  1\n",
      "BIN_Sand :  6\n",
      "BIN_Slush :  5\n",
      "BIN_Water (Standing or Moving) :  7\n",
      "BIN_Rain :  1\n",
      "Top ranking features: \n",
      " ['BIN_DRIMPAIR', 'BIN_HAZ_INV', 'BIN_Intersection', 'BIN_MVISOBSC', 'BIN_Non-Junction', 'BIN_Other Location Within Interchange Area', 'BIN_RUR_URB', 'BIN_Railway Grade Crossing', 'BIN_Rain', 'BIN_SPEEDREL', 'BIN_Sand', 'BIN_Shared-Use Path Crossing', 'BIN_Slush', 'BIN_Through Roadway', 'BIN_Uphill', 'BIN_VSPD_LIM', 'BIN_VTCONT_F', 'BIN_Water (Standing or Moving)']\n"
     ]
    }
   ],
   "source": [
    "from sklearn.feature_selection import RFE\n",
    "from sklearn.linear_model import LogisticRegression\n",
    "\n",
    "#Find top ranking/most influential features in logistic regression using feature selection\n",
    "logreg = LogisticRegression()\n",
    "\n",
    "rfe = RFE(logreg)\n",
    "\n",
    "rfe.fit(X_res_train, y_res_train)\n",
    "\n",
    "rankings = zip(X.columns[rfe.support_], rfe.ranking_)\n",
    "ranks = {}\n",
    "top_ranks = {}\n",
    "\n",
    "for (i, j) in rankings:\n",
    "        ranks[i] = j  \n",
    "\n",
    "for keys, vals in ranks.items():\n",
    "    if vals <= 10:\n",
    "        top_ranks[keys] = vals\n",
    "        print(keys, \": \", top_ranks[keys])\n",
    "\n",
    "print(\"Top ranking features: \\n\", sorted(list((top_ranks.keys()))))\n"
   ]
  },
  {
   "cell_type": "code",
   "execution_count": 28,
   "metadata": {},
   "outputs": [
    {
     "name": "stdout",
     "output_type": "stream",
     "text": [
      "Resampled dataset shape Counter({0: 37932, 1: 3652})\n",
      "Resampled dataset shape Counter({0: 37932, 1: 37932})\n"
     ]
    }
   ],
   "source": [
    "#Use only the recursively selected features in the dataset to avoid overfitting--split and reprocess\n",
    "#Note: top ranks proved to be ineffective resulting in worse scores for all algorithms\n",
    "X = X[list(ranks.keys())]\n",
    "\n",
    "#Split data into train and test sets with test size at 20%\n",
    "X_train, X_test, y_train, y_test = train_test_split(X.values, y.values, test_size = 0.2, random_state=42, stratify=y)\n",
    "\n",
    "#Oversample to compensate for imbalanced data\n",
    "\n",
    "ros_train = RandomOverSampler(random_state=42)\n",
    "X_res_train, y_res_train = ros_train.fit_sample(X_train, y_train)\n",
    "\n",
    "ros_test = RandomOverSampler(random_state=42)\n",
    "X_res_test, y_res_test = ros_test.fit_sample(X_test, y_test)\n",
    "\n",
    "\n",
    "print('Resampled dataset shape {}'.format(Counter(y_train)))\n",
    "print('Resampled dataset shape {}'.format(Counter(y_res_train)))\n",
    "\n"
   ]
  },
  {
   "cell_type": "markdown",
   "metadata": {},
   "source": [
    "I next performed a grid search over the C hyperparameter using GridsearchCV using a fairly wide grid from -5 to 10 in logspace. After some time, the grid search settled on a C-value of 15264.18. However, the accuracy score of this logistic regression model on the training set was a somewhat disappointing 59.96 percent.  "
   ]
  },
  {
   "cell_type": "code",
   "execution_count": 29,
   "metadata": {},
   "outputs": [
    {
     "name": "stdout",
     "output_type": "stream",
     "text": [
      "Tuned Logistic Regression Parameters: 15264.18\n",
      "Best score is 0.5996\n"
     ]
    }
   ],
   "source": [
    "from sklearn.model_selection import GridSearchCV\n",
    "\n",
    "#Set parameter grid for C values to give  fairly wide range to choose from in c-space\n",
    "c_space = np.logspace(-5, 10)\n",
    "param_grid = {'C': c_space }\n",
    "\n",
    "# Instantiate a logistic regression classifier: logreg\n",
    "logreg = LogisticRegression(random_state=42)\n",
    "\n",
    "# Instantiate the GridSearchCV object: logreg_cv\n",
    "logreg_cv = GridSearchCV(logreg, param_grid, cv=5)\n",
    "\n",
    "# Fit it to the training data\n",
    "#logreg_cv.fit(X_train, np.ravel(y_train))\n",
    "logreg_cv.fit(X_res_train, y_res_train)\n",
    "\n",
    "bestC = logreg_cv.best_params_['C']\n",
    "\n",
    "\n",
    "# Print the tuned parameters and score\n",
    "print(\"Tuned Logistic Regression Parameters: {:.2f}\".format(bestC)) \n",
    "print(\"Best score is {:.4f}\".format(logreg_cv.best_score_))\n"
   ]
  },
  {
   "cell_type": "markdown",
   "metadata": {},
   "source": [
    "I then ran the logistic regression model over the test set and obtained an accuracy score of 59.20%, very close to the accuracy score on the training set.  Thus, although the score was not impressive, there did not appear to be any overfitting here.  The Precision for the positive class (1) was .58, while the Recall (or Sensitivity) was .67.  Therefore, in 58% of cases the model correctly identified a serious fatality out of each time it predicted a serious fatality (where Precision is defined as the True Positives divided by the sum of True Positives and False Positives, $\\frac{TP}{(TP + FP)}$, where TP is True Positive and FP is False Positive). In 67% of instances it correctly identified a serious fatality out of all possible serious fatalities in the dataset (where Recall/Sensitivity is defined as True Positives divided by the sum of True Positives and False Negatives, $\\frac{TP}{(TP + FN)}$, where TP is True Positive and FN is False Negative).  The F1 score, the harmonic mean of the Precision and the Recall ($\\frac{2PR}{(P + R)}$, where P is Precision and R is Recall), was .62.  Given that the F1 score runs from 0 to 1.0, with 1.0 indicating the strongest model, this was a better than average score, though a bit mediocre.  The confusion matrix and classification report displaying the foregoing results are printed below.  \n"
   ]
  },
  {
   "cell_type": "code",
   "execution_count": 30,
   "metadata": {},
   "outputs": [
    {
     "name": "stdout",
     "output_type": "stream",
     "text": [
      "Accuracy: 0.5920\n",
      "[[4883 4600]\n",
      " [3138 6345]]\n",
      "             precision    recall  f1-score   support\n",
      "\n",
      "          0       0.61      0.51      0.56      9483\n",
      "          1       0.58      0.67      0.62      9483\n",
      "\n",
      "avg / total       0.59      0.59      0.59     18966\n",
      "\n"
     ]
    }
   ],
   "source": [
    "from sklearn.metrics import confusion_matrix, classification_report\n",
    "\n",
    "#Instantiate new instance of Logistic Regression and apply best parameter for testing\n",
    "lr = LogisticRegression(C=bestC, random_state=42)\n",
    "lr.fit(X_res_train, y_res_train)\n",
    "\n",
    "# Predict the labels of the test set: y_pred\n",
    "y_pred = lr.predict(X_res_test)\n",
    "\n",
    "# Compute and print the confusion matrix and classification report\n",
    "print(\"Accuracy: {:.4f}\".format(lr.score(X_res_test, y_res_test)))\n",
    "print(confusion_matrix(y_res_test, y_pred))\n",
    "print(classification_report(y_res_test, y_pred))\n"
   ]
  },
  {
   "cell_type": "markdown",
   "metadata": {},
   "source": [
    "I then plotted the ROC Curve for the model, which plots the False Positive Rate vs. the True Positive Rate and compares the curve derived to a reference line with a slope of 1, indicating results that could be obtained by pure chance(equal numbers of False Positives and True Positives).  The greater the area under the curve (AUC), the more True Positives and the stronger the model. The results for the logistic regression model are shown below, showing an area of just .59 and a curve just slightly above the reference line, thus indicating a model that performs just slighly better than chance.  I therefore resolved to experiment with other classification models in an effort to obtain better results.  "
   ]
  },
  {
   "cell_type": "code",
   "execution_count": 31,
   "metadata": {},
   "outputs": [
    {
     "data": {
      "image/png": "[encoded data removed]",
      "text/plain": [
       "<matplotlib.figure.Figure at 0x10d7ab3c8>"
      ]
     },
     "metadata": {},
     "output_type": "display_data"
    }
   ],
   "source": [
    "from sklearn.metrics import roc_curve\n",
    "from sklearn.metrics import roc_auc_score\n",
    "import matplotlib.pyplot as plt\n",
    "\n",
    "logit_roc_auc = roc_auc_score(y_res_test, lr.predict(X_res_test))\n",
    "\n",
    "# Compute predicted probabilities: y_pred_prob\n",
    "y_pred_prob = lr.predict_proba(X_res_test)[:,1]\n",
    "\n",
    "# Generate ROC curve values: fpr, tpr, thresholds\n",
    "fpr, tpr, thresholds = roc_curve(y_res_test, y_pred_prob)\n",
    "\n",
    "# Plot ROC curve\n",
    "fig, ax = plt.subplots()\n",
    "_ = ax.plot([0, 1], [0, 1], 'r--')\n",
    "_ = ax.plot(fpr, tpr, label='Logistic Regression (area = %0.2f)' % logit_roc_auc)\n",
    "_ = ax.set_xlabel('False Positive Rate')\n",
    "_ = ax.set_ylabel('True Positive Rate')\n",
    "_ = ax.set_title('ROC Curve')\n",
    "_ = ax.legend(loc=\"lower right\")\n",
    "plt.show()\n",
    "\n",
    "fig.savefig('plots/lr_roc_curve.png')\n",
    "\n"
   ]
  },
  {
   "cell_type": "markdown",
   "metadata": {},
   "source": [
    "### Voting Classifier and Model Comparison\n",
    "\n",
    "I next used an ensemble Voting Classifier model that contained a logistic regression classifer, a Random Forest classifier and a K-Nearest Neighbors classifer.  After training the ensemble on the training set, I obtained an accuracy score of approximately 98.5%.  Running a loop over each component model in addition to the Voting Classifier, I obtained the following accuracy scores for the test data to the nearest tenth of a percent:  Logistic Regression at 58.9% (not using feature reduction or hyperparameter selection here), Random Forest at 61.0%, K-Nearest Neighbors at 75.8% and the Voting Classifier at 70.7%.  \n",
    "\n",
    "I attempted to improve the results from the Random Forest and Voting Classifier and in both cases still got inferior results compared to K-Neighbors.  \n",
    "\n",
    "For Random forest, I increased the number of trees to 300.  The improvement to the accuracy score was about .5 percent.  I ran small loop from 10, the default value, to 30 similar to what I did for knn to get an optimum number of estimators, just to see if there was any improvement as the number of estimators was increased and there was virtually none, as shown in the bottom cell.  \n",
    "\n",
    "I then attempted to use 300 estimators directly in the Voting Classifier.  The accuracy score was 0.6162, only a slight improvement, and appears to be supported by the plot below.  \n",
    "\n",
    "I also attempted to adjust the weights for the Voting Classifier to get an improved score.  I adjusted the weights to [.1, .2, .7], where .1 was for the logistic regression, .2 was for the Random Forest and .7 was for KNeighbors.  The Voting Classifier had an improved score of .7575, just slightly less than the KNeighbors classifier at .7577.  \n",
    "\n",
    "I also looked at the Precision, Recall and F1 scores for both methods.  For the Random Forest (with n_estimators=300), the Precision for the positive class was a very high .98, but the Recall was only a .24.  The F1 score for the positive class was only a .38, so this simply does not appear to be a good model for this dataset.  For the Voting Classifier, the Precision for the positive class was a .85, but only a .63 for the Recall and a .72 for the F1 score.  The F1 score here on the positive class, while decent, is still .01 less than the F1 score for the positive class using KNeighbors.  Random Forest and Voting Classifier appear to be making few Type I errors, but a large number of Type II errors. \n",
    "\n",
    "Since the K-Nearest Neighbors model performed the best, I ultimately chose to use this model for the present dataset.  "
   ]
  },
  {
   "cell_type": "code",
   "execution_count": 32,
   "metadata": {
    "collapsed": true
   },
   "outputs": [],
   "source": [
    "from sklearn.ensemble import RandomForestClassifier \n",
    "from sklearn.ensemble import VotingClassifier \n",
    "from sklearn.linear_model import LogisticRegression \n",
    "from sklearn.neighbors import KNeighborsClassifier\n",
    "\n",
    "log_clf = LogisticRegression() \n",
    "rnd_clf = RandomForestClassifier(n_estimators=300, random_state=42) \n",
    "knn_clf = KNeighborsClassifier(n_neighbors=4)\n",
    "\n",
    "voting_clf = VotingClassifier(\n",
    "    estimators =[('lr', log_clf), ('rf', rnd_clf), ('knn', knn_clf)], weights = [.1, .2, .7], voting ='soft') \n",
    "\n"
   ]
  },
  {
   "cell_type": "code",
   "execution_count": 33,
   "metadata": {
    "collapsed": true
   },
   "outputs": [],
   "source": [
    "#Reset X_res_train and y_res_train to previous number of features\n",
    "X = traffic_clean_ml.drop(['SERIOUS_FATALS'], axis=1)\n",
    "y = traffic_clean_ml['SERIOUS_FATALS']\n",
    "\n"
   ]
  },
  {
   "cell_type": "code",
   "execution_count": 34,
   "metadata": {
    "collapsed": true
   },
   "outputs": [],
   "source": [
    "#Split data into train and test sets with test size at 20%\n",
    "X_train, X_test, y_train, y_test = train_test_split(X.values, y.values, test_size = 0.2, random_state=42, stratify=y)\n",
    "\n",
    "#Oversample train and test sets\n",
    "ros_train = RandomOverSampler(random_state=42)\n",
    "X_res_train, y_res_train = ros_train.fit_sample(X_train, y_train)\n",
    "\n",
    "ros_test = RandomOverSampler(random_state=42)\n",
    "X_res_test, y_res_test = ros_test.fit_sample(X_test, y_test)\n",
    "\n"
   ]
  },
  {
   "cell_type": "code",
   "execution_count": 35,
   "metadata": {},
   "outputs": [
    {
     "name": "stdout",
     "output_type": "stream",
     "text": [
      "Training score: 0.9746\n"
     ]
    }
   ],
   "source": [
    "#Train Voting Classifier\n",
    "\n",
    "voting_clf.fit(X_res_train, y_res_train)\n",
    "\n",
    "print(\"Training score: {:.4f}\".format(voting_clf.score(X_res_train, y_res_train)))"
   ]
  },
  {
   "cell_type": "code",
   "execution_count": 36,
   "metadata": {},
   "outputs": [
    {
     "name": "stdout",
     "output_type": "stream",
     "text": [
      "Testing score: \n",
      "\n",
      "LogisticRegression : 0.5893\n",
      "RandomForestClassifier : 0.6162\n",
      "KNeighborsClassifier : 0.7577\n",
      "VotingClassifier : 0.7575\n"
     ]
    }
   ],
   "source": [
    "from sklearn.metrics import accuracy_score\n",
    "\n",
    "print(\"Testing score: \\n\")\n",
    "\n",
    "for clf in (log_clf, rnd_clf, knn_clf, voting_clf):\n",
    "    clf.fit(X_res_train, y_res_train)\n",
    "    y_pred = clf.predict(X_res_test)\n",
    "    print(clf.__class__.__name__, \": {:.4f}\".format(accuracy_score(y_res_test, y_pred)))\n",
    "\n"
   ]
  },
  {
   "cell_type": "code",
   "execution_count": 37,
   "metadata": {},
   "outputs": [
    {
     "name": "stdout",
     "output_type": "stream",
     "text": [
      "Accuracy score: 0.6162\n",
      "[[9446   37]\n",
      " [7242 2241]]\n",
      "             precision    recall  f1-score   support\n",
      "\n",
      "          0       0.57      1.00      0.72      9483\n",
      "          1       0.98      0.24      0.38      9483\n",
      "\n",
      "avg / total       0.77      0.62      0.55     18966\n",
      "\n",
      "Accuracy score: 0.7575\n",
      "[[8402 1081]\n",
      " [3519 5964]]\n",
      "             precision    recall  f1-score   support\n",
      "\n",
      "          0       0.70      0.89      0.79      9483\n",
      "          1       0.85      0.63      0.72      9483\n",
      "\n",
      "avg / total       0.78      0.76      0.75     18966\n",
      "\n"
     ]
    }
   ],
   "source": [
    "from sklearn.metrics import accuracy_score\n",
    "from sklearn.metrics import confusion_matrix, classification_report\n",
    "\n",
    "y_pred1 = rnd_clf.predict(X_res_test)\n",
    "y_pred2 = voting_clf.predict(X_res_test)\n",
    "print(\"Accuracy score: {:.4f}\".format(accuracy_score(y_res_test, y_pred1)))\n",
    "print(confusion_matrix(y_res_test, y_pred1))\n",
    "print(classification_report(y_res_test, y_pred1))\n",
    "\n",
    "print(\"Accuracy score: {:.4f}\".format(accuracy_score(y_res_test, y_pred2)))\n",
    "print(confusion_matrix(y_res_test, y_pred2))\n",
    "print(classification_report(y_res_test, y_pred2))\n",
    "\n"
   ]
  },
  {
   "cell_type": "code",
   "execution_count": 38,
   "metadata": {
    "collapsed": true
   },
   "outputs": [],
   "source": [
    "#Reset X to original values and re-process\n",
    "#Reset X_res_train and y_res_train to previous number of features\n",
    "X = traffic_clean_ml.drop(['SERIOUS_FATALS'], axis=1)\n",
    "y = traffic_clean_ml['SERIOUS_FATALS']\n"
   ]
  },
  {
   "cell_type": "code",
   "execution_count": 39,
   "metadata": {
    "collapsed": true
   },
   "outputs": [],
   "source": [
    "#Split data into train and test sets with test size at 20%\n",
    "X_train, X_test, y_train, y_test = train_test_split(X.values, y.values, test_size = 0.2, random_state=42, stratify=y)\n",
    "\n",
    "#Oversample train and test sets\n",
    "ros_train = RandomOverSampler(random_state=42)\n",
    "X_res_train, y_res_train = ros_train.fit_sample(X_train, y_train)\n",
    "\n",
    "ros_test = RandomOverSampler(random_state=42)\n",
    "X_res_test, y_res_test = ros_test.fit_sample(X_test, y_test)\n",
    "\n"
   ]
  },
  {
   "cell_type": "markdown",
   "metadata": {},
   "source": [
    "### K-Nearest Neighbors Classifier\n",
    "\n",
    "In order to obtain the optimal k to use for the K-Nearest Neighbors classifier, I looped over several possible k-values from 1 through 8 and plotted the accuracy scores for both the training set and test set in a single plot.  This plot may be viewed in the bottom cell.  (Please note that it takes a substantial amount of time to run, i.e., approximately 20 minutes, and for this reason has been set off from the other cells in this notebook.)  \n",
    "\n",
    "Although k=3 and k=4 gave the highest accuracy scores, there was still a substantial amount of overfitting here.  K-Neighbors overfits more at k=4 by 21.7 percentage points vs. k=7 with 17.4 percentage points overfitting.  The drop in test accuracy is a little under 2 percent going from k=4 (75.8%) to k=7 at 74.2%, so the small drop in accuracy of 1.6% appears to be  worth the 4.3% drop in overfitting. I also attempted to use a weighting function for the nearest neighbors such that weights would be inversely proportional to distance using the weights='distance' parameter.  However, this also resulted in overfitting, and the improvements it provided were again minimal, as illustrated further in the second to last plot below. Accordingly, I ultimately adopted k=7 as the k-value for this model with the weights equal to 1. \n",
    "\n",
    "At k=7, the training accuracy score for the K-Nearest Neighbors classifier was 91.6%, while the testing accuracy score was, as stated, 74.2%. The Precision for the positive class (1) was .76, while the Recall (or Sensitivity) was .71.  Therefore, in 76% of cases the model correctly identified a serious fatality out of each time it predicted a serious fatality. In 71% of instances it correctly identified a serious fatality out of all possible serious fatalities in the dataset.  Finally, the F1 score for the positive class was .73. All of these scores thus indicated a substantial improvement over the previous logistic regression model. The confusion matrix and classification report displaying the foregoing results are printed below."
   ]
  },
  {
   "cell_type": "code",
   "execution_count": 40,
   "metadata": {},
   "outputs": [
    {
     "name": "stdout",
     "output_type": "stream",
     "text": [
      "Training score: 0.9162\n"
     ]
    }
   ],
   "source": [
    "from sklearn.neighbors import KNeighborsClassifier\n",
    "\n",
    "knn_clf = KNeighborsClassifier(n_neighbors=7)\n",
    "\n",
    "knn_clf.fit(X_res_train, y_res_train)\n",
    "\n",
    "print(\"Training score: {:.4f}\".format(knn_clf.score(X_res_train, y_res_train)))\n"
   ]
  },
  {
   "cell_type": "code",
   "execution_count": 41,
   "metadata": {},
   "outputs": [
    {
     "name": "stdout",
     "output_type": "stream",
     "text": [
      "Accuracy score: 0.7420\n",
      "[[7336 2147]\n",
      " [2746 6737]]\n",
      "             precision    recall  f1-score   support\n",
      "\n",
      "          0       0.73      0.77      0.75      9483\n",
      "          1       0.76      0.71      0.73      9483\n",
      "\n",
      "avg / total       0.74      0.74      0.74     18966\n",
      "\n"
     ]
    }
   ],
   "source": [
    "from sklearn.metrics import accuracy_score\n",
    "from sklearn.metrics import confusion_matrix, classification_report\n",
    "\n",
    "y_pred = knn_clf.predict(X_res_test)\n",
    "print(\"Accuracy score: {:.4f}\".format(accuracy_score(y_res_test, y_pred)))\n",
    "print(confusion_matrix(y_res_test, y_pred))\n",
    "print(classification_report(y_res_test, y_pred))\n"
   ]
  },
  {
   "cell_type": "markdown",
   "metadata": {},
   "source": [
    "I then plotted the ROC Curve for the present model. The results for the K-Nearest Neighbors model are shown below, showing an area under the curve (AUC) of .74 and a curve that is substantially above the 45 degree reference line, thus indicating a model that performs much better than chance.  "
   ]
  },
  {
   "cell_type": "code",
   "execution_count": 42,
   "metadata": {},
   "outputs": [
    {
     "data": {
      "image/png": "[encoded data removed]",
      "text/plain": [
       "<matplotlib.figure.Figure at 0x108a2cb70>"
      ]
     },
     "metadata": {},
     "output_type": "display_data"
    }
   ],
   "source": [
    "from sklearn.metrics import roc_curve\n",
    "from sklearn.metrics import roc_auc_score\n",
    "import matplotlib.pyplot as plt\n",
    "\n",
    "knn_roc_auc = roc_auc_score(y_res_test, knn_clf.predict(X_res_test))\n",
    "\n",
    "# Compute predicted probabilities: y_pred_prob\n",
    "y_pred_prob = knn_clf.predict_proba(X_res_test)[:,1]\n",
    "\n",
    "# Generate ROC curve values: fpr, tpr, thresholds\n",
    "fpr, tpr, thresholds = roc_curve(y_res_test, y_pred_prob)\n",
    "\n",
    "# Plot ROC curve\n",
    "fig, ax = plt.subplots()\n",
    "_ = ax.plot([0, 1], [0, 1], 'r--')\n",
    "_ = ax.plot(fpr, tpr, label='K-Nearest Neighbors (area = %0.2f)' % knn_roc_auc)\n",
    "_ = ax.set_xlabel('False Positive Rate')\n",
    "_ = ax.set_ylabel('True Positive Rate')\n",
    "_ = ax.set_title('ROC Curve')\n",
    "_ = ax.legend(loc=\"lower right\")\n",
    "plt.show()\n",
    "\n",
    "fig.savefig('plots/knn_roc_curve.png')\n",
    "\n"
   ]
  },
  {
   "cell_type": "markdown",
   "metadata": {},
   "source": [
    "## Analysis and Conclusion\n",
    "\n",
    "Despite the improved scores obtained through the K-Nearest Neighbors model on the test data, there was still overfitting unlike with the logistic regression model where feature reduction algorithms were employed.  \n",
    "\n",
    "The use of PCA and other feature-reducing tools was attempted with the K-Nearest Neighbors model, but ultimately had no beneficial impact since the nature of the data was such that each feature had to be split into many sub-features first that then needed to be binarized before being able to submit the data to a machine learning algorithm. Removing subfeatures using a feature reducer resulted in some subfeatures of a given feature being lost, but not all.  This resulted in substantially reduced accuracy when using feature reducers. Nevertheless, I was able to remove some features by hand at the outset before binarizing the variables where I observed redundancy between features. \n",
    "\n",
    "Despite attempting to use an ensemble Voting Classifier method consisting of Logistic Regression, a Random Forest and K-Nearest Neighbors, it failed to outperform K-Nearest Neighbors, as did the Random Forest by itself. Perhaps the Voting Classifier was not performing better than its components because these methods all have similar strengths and weaknesses (at least with respect to the present dataset), so we don’t have a situation where the strengths of one component make up for the weaknesses in another.  Instead there was just an averaging of results, such that the Voting Classifier would never perform better than its strongest component. The issue is likely related to the dataset itself and the way that the variables had to be subdivided into binaries, thus making it too rigid. K-Neighbors likely worked better here because, as noted by the Sci-Kit Learn User Guide, \"it does not attempt to construct a general internal model, but simply stores instances of the training data\" and \"...is often successful in classification situations where the decision boundary is very irregular\", as is likely the situation here. Based on the foregoing, the K-Nearest Neighbors method appears to be superior with respect to the present dataset.  \n",
    "\n",
    "As discussed above, I was ultimately able to reduce the extent of overfitting by selecting a higher k-value at k=7, rather than at k=4, and this appeared to provide the best trade-off between reducing overfitting and maximizing accuracy.  In addition to an improved accuracy score, the model also provided improved Precision, Recall and F1 scores and a much greater area under the curve in the model's ROC plot. Therefore, this model appears to have maximized its predictive power and successfully predicted the occurrence of serious fatalities at a high rate with the given data.  "
   ]
  },
  {
   "cell_type": "code",
   "execution_count": 3,
   "metadata": {},
   "outputs": [
    {
     "data": {
      "image/png": "[encoded data removed]",
      "text/plain": [
       "<matplotlib.figure.Figure at 0x110fb1d30>"
      ]
     },
     "metadata": {},
     "output_type": "display_data"
    }
   ],
   "source": [
    "##REFERENCE ONLY--ESTABLISHES OPTIMUM K--DO NOT RUN AGAIN--20 MINUTE RUNTIME\n",
    "from sklearn.neighbors import KNeighborsClassifier\n",
    "from sklearn.metrics import accuracy_score\n",
    "import matplotlib.pyplot as plt\n",
    "\n",
    "#Neighbors variable for looping over k-values and arrays for train and test accuracies\n",
    "neighbors = np.arange(1, 9)\n",
    "train_accuracy = np.empty(len(neighbors))\n",
    "test_accuracy = np.empty(len(neighbors))\n",
    "\n",
    "# Loop over different values of k using KNeighborsClassifier\n",
    "for i, k in enumerate(neighbors):\n",
    "    \n",
    "    knn = KNeighborsClassifier(n_neighbors=k)\n",
    "\n",
    "    knn.fit(X_res_train, y_res_train)\n",
    "    \n",
    "    #Compute accuracy on the training set\n",
    "    train_accuracy[i] = knn.score(X_res_train, y_res_train)\n",
    "\n",
    "    #Compute accuracy on the testing set\n",
    "    test_accuracy[i] = knn.score(X_res_test, y_res_test)\n",
    "\n",
    "# Plot accuracies for train and test sets for all values of k\n",
    "fig, ax = plt.subplots()\n",
    "\n",
    "_ = ax.set_title('k-NN: Accuracies for Varying Numbers of Neighbors')\n",
    "_ = ax.plot(neighbors, test_accuracy, label = 'Testing Accuracy')\n",
    "_ = ax.plot(neighbors, train_accuracy, label = 'Training Accuracy')\n",
    "_ = ax.legend()\n",
    "_ = ax.set_xlabel('Number of Neighbors')\n",
    "_ = ax.set_ylabel('Accuracy')\n",
    "plt.show()\n",
    "\n",
    "fig.savefig('plots/knn_k-values.png')"
   ]
  },
  {
   "cell_type": "code",
   "execution_count": 48,
   "metadata": {},
   "outputs": [
    {
     "data": {
      "image/png": "[encoded data removed]",
      "text/plain": [
       "<matplotlib.figure.Figure at 0x1a595feb70>"
      ]
     },
     "metadata": {},
     "output_type": "display_data"
    }
   ],
   "source": [
    "##REFERENCE ONLY--ESTABLISHES OPTIMUM K--DO NOT RUN AGAIN--20 MINUTE RUNTIME\n",
    "from sklearn.neighbors import KNeighborsClassifier\n",
    "from sklearn.metrics import accuracy_score\n",
    "import matplotlib.pyplot as plt\n",
    "\n",
    "#Neighbors variable for looping over k-values and arrays for train and test accuracies\n",
    "neighbors = np.arange(1, 9)\n",
    "train_accuracy = np.empty(len(neighbors))\n",
    "test_accuracy = np.empty(len(neighbors))\n",
    "\n",
    "# Loop over different values of k using KNeighborsClassifier\n",
    "for i, k in enumerate(neighbors):\n",
    "    \n",
    "    knn = KNeighborsClassifier(n_neighbors=k, weights='distance')\n",
    "\n",
    "    knn.fit(X_res_train, y_res_train)\n",
    "    \n",
    "    #Compute accuracy on the training set\n",
    "    train_accuracy[i] = knn.score(X_res_train, y_res_train)\n",
    "\n",
    "    #Compute accuracy on the testing set\n",
    "    test_accuracy[i] = knn.score(X_res_test, y_res_test)\n",
    "\n",
    "# Plot accuracies for train and test sets for all values of k\n",
    "fig, ax = plt.subplots()\n",
    "\n",
    "_ = ax.set_title('k-NN: Accuracies for Varying Numbers of Neighbors')\n",
    "_ = ax.plot(neighbors, test_accuracy, label = 'Testing Accuracy')\n",
    "_ = ax.plot(neighbors, train_accuracy, label = 'Training Accuracy')\n",
    "_ = ax.legend()\n",
    "_ = ax.set_xlabel('Number of Neighbors')\n",
    "_ = ax.set_ylabel('Accuracy')\n",
    "plt.show()\n",
    "\n",
    "fig.savefig('plots/knn_k-values_weights.png')"
   ]
  },
  {
   "cell_type": "code",
   "execution_count": 3,
   "metadata": {},
   "outputs": [
    {
     "data": {
      "image/png": "[encoded data removed]",
      "text/plain": [
       "<matplotlib.figure.Figure at 0x10a533048>"
      ]
     },
     "metadata": {},
     "output_type": "display_data"
    }
   ],
   "source": [
    "from sklearn.ensemble import RandomForestClassifier \n",
    "from sklearn.metrics import accuracy_score\n",
    "import matplotlib.pyplot as plt\n",
    "\n",
    "#Estimators variable for looping over number of estimators and arrays for train and test accuracies\n",
    "estimators = np.arange(10, 30)\n",
    "train_accuracy = np.empty(len(estimators))\n",
    "test_accuracy = np.empty(len(estimators))\n",
    "\n",
    "# Loop over different values of k using RandomForestClassifer\n",
    "for i, k in enumerate(estimators):\n",
    "    \n",
    "    rnd_clf = RandomForestClassifier(n_estimators=k, random_state=42) \n",
    "    \n",
    "    rnd_clf.fit(X_res_train, y_res_train)\n",
    "    \n",
    "    #Compute accuracy on the training set\n",
    "    train_accuracy[i] = rnd_clf.score(X_res_train, y_res_train)\n",
    "\n",
    "    #Compute accuracy on the testing set\n",
    "    test_accuracy[i] = rnd_clf.score(X_res_test, y_res_test)\n",
    "\n",
    "# Plot accuracies for train and test sets for all values of k\n",
    "fig, ax = plt.subplots()\n",
    "\n",
    "_ = ax.set_title('Random Forest: Accuracies for Varying Numbers of Estimators')\n",
    "_ = ax.plot(estimators, test_accuracy, label = 'Testing Accuracy')\n",
    "_ = ax.plot(estimators, train_accuracy, label = 'Training Accuracy')\n",
    "_ = ax.legend()\n",
    "_ = ax.set_xlabel('Number of Estimators')\n",
    "_ = ax.set_ylabel('Accuracy')\n",
    "plt.show()\n",
    "\n",
    "fig.savefig('plots/RF_Estimators.png')"
   ]
  }
 ],
 "metadata": {
  "kernelspec": {
   "display_name": "Python 3",
   "language": "python",
   "name": "python3"
  },
  "language_info": {
   "codemirror_mode": {
    "name": "ipython",
    "version": 3
   },
   "file_extension": ".py",
   "mimetype": "text/x-python",
   "name": "python",
   "nbconvert_exporter": "python",
   "pygments_lexer": "ipython3",
   "version": "3.6.3"
  }
 },
 "nbformat": 4,
 "nbformat_minor": 2
}
